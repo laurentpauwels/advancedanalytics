{
 "cells": [
  {
   "cell_type": "markdown",
   "id": "59b6e0d9-a378-407f-b89f-37f3e60b610f",
   "metadata": {},
   "source": [
    "# Maximum Likelihood "
   ]
  },
  {
   "cell_type": "markdown",
   "id": "111f7362-9517-4696-a8ca-a1083cbd58c4",
   "metadata": {},
   "source": [
    "Package requirements:\n",
    "* `tidyverse`\n",
    "* `knitr`"
   ]
  },
  {
   "cell_type": "markdown",
   "id": "f8380fe8-2029-41e2-b124-71e3371fd4dc",
   "metadata": {},
   "source": [
    "### Example"
   ]
  },
  {
   "cell_type": "markdown",
   "id": "28a04dad-217e-42a1-84ac-0f8bda71d443",
   "metadata": {},
   "source": [
    "Let $y_{1}, y_{2}, y_{3}$ are independently distributed as follows\n",
    "$$\n",
    "P \\left(y_{i}=1\\right) =\\Phi \\left(1\\right), P\\left(y_{i} =0\\right)=1-\\Phi \\left(1\\right)\n",
    "$$\n",
    "for $i=1,\\ldots,3$.\n",
    "* What is the probability that $y_{1} =1$?\n",
    "$$\n",
    "P\\left(y_{1} =1\\right)=\\Phi \\left(1\\right) = ?\n",
    "$$"
   ]
  },
  {
   "cell_type": "code",
   "execution_count": 1,
   "id": "7a5adfab-6d53-44e9-b031-445761f171f6",
   "metadata": {},
   "outputs": [
    {
     "data": {
      "text/html": [
       "0.841344746068543"
      ],
      "text/latex": [
       "0.841344746068543"
      ],
      "text/markdown": [
       "0.841344746068543"
      ],
      "text/plain": [
       "[1] 0.8413447"
      ]
     },
     "metadata": {},
     "output_type": "display_data"
    }
   ],
   "source": [
    "pnorm(1, mean = 0, sd = 1, lower.tail = TRUE, log.p = FALSE)"
   ]
  },
  {
   "cell_type": "markdown",
   "id": "dd640894-f686-416b-8570-769471966926",
   "metadata": {},
   "source": [
    "* What is the probability that $y_{2} =0$?\n",
    "$$\n",
    "P\\left(y_{2} =0\\right)=1-\\Phi \\left(1\\right)\n",
    "$$"
   ]
  },
  {
   "cell_type": "code",
   "execution_count": 2,
   "id": "cf5708b5-65c7-48ee-a562-954a5b777671",
   "metadata": {},
   "outputs": [
    {
     "data": {
      "text/html": [
       "0.158655253931457"
      ],
      "text/latex": [
       "0.158655253931457"
      ],
      "text/markdown": [
       "0.158655253931457"
      ],
      "text/plain": [
       "[1] 0.1586553"
      ]
     },
     "metadata": {},
     "output_type": "display_data"
    }
   ],
   "source": [
    "1-pnorm(1, mean = 0, sd = 1, lower.tail = TRUE, log.p = FALSE)"
   ]
  },
  {
   "cell_type": "markdown",
   "id": "9f6550bf-1149-472c-b458-846291f35abd",
   "metadata": {},
   "source": [
    "* What is the probability that $y_{3} =0$?\n",
    "$$\n",
    "P\\left(y_{3} =0\\right)=1-\\Phi \\left(1\\right)\n",
    "$$\n"
   ]
  },
  {
   "cell_type": "markdown",
   "id": "63e888f3-b996-4699-90e8-47f9bf59a12a",
   "metadata": {},
   "source": [
    "$$\n",
    "\\begin{align*} P\\left(y_{1} =1,y_{2} =0,y_{3} =0\\right)&=P\\left(y_{1} =1\\right)P\\left(y_{2}=0\\right)P\\left(y_{3} =0\\right) \\\\ \n",
    "&=\\Phi \\left(1\\right)\\left[1-\\Phi \\left(1\\right)\\right]\\left[1-\\Phi \\left(1\\right)\\right] \\\\ \n",
    "&=0.8413\\times 0.1587\\times 0.1587\n",
    "\\end{align*}\n",
    "$$"
   ]
  },
  {
   "cell_type": "code",
   "execution_count": 3,
   "id": "2c830ef4-3de4-4087-b1de-5923604e47c1",
   "metadata": {},
   "outputs": [
    {
     "data": {
      "text/html": [
       "0.0211779005257253"
      ],
      "text/latex": [
       "0.0211779005257253"
      ],
      "text/markdown": [
       "0.0211779005257253"
      ],
      "text/plain": [
       "[1] 0.0211779"
      ]
     },
     "metadata": {},
     "output_type": "display_data"
    }
   ],
   "source": [
    "pnorm(1, mean = 0, sd = 1, lower.tail = TRUE, log.p = FALSE) *(1-pnorm(1, mean = 0, sd = 1, lower.tail = TRUE, log.p = FALSE))*(1-pnorm(1, mean = 0, sd = 1, lower.tail = TRUE, log.p = FALSE))"
   ]
  },
  {
   "cell_type": "markdown",
   "id": "82a48c89-fd08-4a37-a9c3-f2cc02a64034",
   "metadata": {},
   "source": [
    "### Normal Likelihood Function"
   ]
  },
  {
   "cell_type": "code",
   "execution_count": 4,
   "id": "db9af9da-46c3-4658-8a3e-fb71a0a02d62",
   "metadata": {},
   "outputs": [],
   "source": [
    "normL=function(y,mu,sigma){\n",
    "  prod((1/sqrt(2*pi)*sigma) * exp(-(1/2*sigma^2)*(y-mu)^2))\n",
    "     }"
   ]
  },
  {
   "cell_type": "markdown",
   "id": "534fbfc7-1030-4c7a-b09e-e2278b2af48e",
   "metadata": {},
   "source": [
    "### Normal Log-Likelihood Function"
   ]
  },
  {
   "cell_type": "code",
   "execution_count": 5,
   "id": "796258a4-1125-4be5-8cee-e2d4cc3edd52",
   "metadata": {},
   "outputs": [],
   "source": [
    "lognormL = function(y,mu,sigma){\n",
    "  log(prod(dnorm(y, mean = mu, sd = sigma)))\n",
    "}"
   ]
  },
  {
   "cell_type": "markdown",
   "id": "7b7c369c-bae5-4e21-8629-87a92aeeb33d",
   "metadata": {},
   "source": [
    "If $y_{1} \\sim N\\left(0,1\\right)$ and $y_{2} \\sim N\\left(0,1\\right)$ and $y_{1} $ and $y_{2} $ are independent, then their respective PDF are\n",
    "$$\n",
    "f\\left(y_{1} \\right)=\\frac{1}{\\sqrt{2\\pi } } \\exp \\left(-\\frac{y_{1}^{2} }{2} \\right) \\quad   f\\left(y_{2} \\right)=\\frac{1}{\\sqrt{2\\pi } } \\exp \\left(-\\frac{y_{2}^{2} }{2} \\right)\n",
    "$$"
   ]
  },
  {
   "cell_type": "markdown",
   "id": "49332d3d-0ae1-4e13-97e8-d5fb8e1a5722",
   "metadata": {},
   "source": [
    "* What is the probability density at $y_{1} =1.1$?"
   ]
  },
  {
   "cell_type": "code",
   "execution_count": 6,
   "id": "724a1a97-987b-4223-ae03-8d7edad1f1f3",
   "metadata": {},
   "outputs": [
    {
     "data": {
      "text/html": [
       "0.217852177032551"
      ],
      "text/latex": [
       "0.217852177032551"
      ],
      "text/markdown": [
       "0.217852177032551"
      ],
      "text/plain": [
       "[1] 0.2178522"
      ]
     },
     "metadata": {},
     "output_type": "display_data"
    }
   ],
   "source": [
    "normL(1.1,0,1)"
   ]
  },
  {
   "cell_type": "markdown",
   "id": "cbffb730-2729-417f-a948-c448b15786b7",
   "metadata": {},
   "source": [
    "$$\n",
    "f\\left(1.1\\right)=\\frac{1}{\\sqrt{2\\pi } } \\exp \\left(-\\frac{\\left(1.1\\right)^{2} }{2} \\right)=0.2179\n",
    "$$"
   ]
  },
  {
   "cell_type": "markdown",
   "id": "f1a2e2b3-626e-43d0-adb1-febe6e4fc3ad",
   "metadata": {},
   "source": [
    "* What is the probability density at $y_{2} =2.5$?"
   ]
  },
  {
   "cell_type": "code",
   "execution_count": 7,
   "id": "288b5865-74ae-4cd1-9bfe-88e130197b6e",
   "metadata": {},
   "outputs": [
    {
     "data": {
      "text/html": [
       "0.0175283004935685"
      ],
      "text/latex": [
       "0.0175283004935685"
      ],
      "text/markdown": [
       "0.0175283004935685"
      ],
      "text/plain": [
       "[1] 0.0175283"
      ]
     },
     "metadata": {},
     "output_type": "display_data"
    }
   ],
   "source": [
    "normL(2.5,0,1)"
   ]
  },
  {
   "cell_type": "markdown",
   "id": "edcbc9ab-186c-497c-bc0e-666bcb1cf0dd",
   "metadata": {},
   "source": [
    "$$\n",
    "f\\left(2.5\\right)=\\frac{1}{\\sqrt{2\\pi } } \\exp \\left(-\\frac{\\left(2.5\\right)^{2} }{2} \\right)=0.0175\n",
    "$$"
   ]
  },
  {
   "cell_type": "markdown",
   "id": "2ea7d05a-ebeb-4c1a-beac-991b750d2ba5",
   "metadata": {},
   "source": [
    "Since $y_{1} $ and $y_{2} $ are independent, the joint probability density at $y_{1} $ and $y_{2} $ is\n",
    "$$\n",
    "\\begin{align*} {f\\left(y_{1} ,y_{2} \\right)} =& {f\\left(y_{1} \\right)f\\left(y_{2} \\right)} \\\\ \n",
    " = & {\\frac{1}{\\sqrt{2\\pi } } \\exp \\left(-\\frac{y_{1}^{2} }{2} \\right)\\times \\frac{1}{\\sqrt{2\\pi } } \\exp \\left(-\\frac{y_{2}^{2} }{2} \\right)} \n",
    "\\end{align*}\n",
    "$$"
   ]
  },
  {
   "cell_type": "markdown",
   "id": "8842e24b-fb94-4967-b9ea-5adc9b4342b1",
   "metadata": {},
   "source": [
    "* What is the joint probability density at $y_{1} =1.1$ and $y_{2} =2.5$?"
   ]
  },
  {
   "cell_type": "code",
   "execution_count": 8,
   "id": "9a5468dc-17e3-418c-b37f-d88a9987db4c",
   "metadata": {},
   "outputs": [
    {
     "data": {
      "text/html": [
       "0.00381857842220464"
      ],
      "text/latex": [
       "0.00381857842220464"
      ],
      "text/markdown": [
       "0.00381857842220464"
      ],
      "text/plain": [
       "[1] 0.003818578"
      ]
     },
     "metadata": {},
     "output_type": "display_data"
    }
   ],
   "source": [
    "normL(1.1,0,1)*normL(2.5,0,1)"
   ]
  },
  {
   "cell_type": "markdown",
   "id": "605489f8-d4c0-4f08-9559-9d819d5e4b59",
   "metadata": {},
   "source": [
    "$$\n",
    "\\begin{align*}\n",
    "{f\\left(1.1,2.5\\right)} = & {f\\left(1.1\\right)f\\left(2.5\\right)} \\\\ \n",
    "= & {\\frac{1}{\\sqrt{2\\pi } } \\exp \\left(-\\frac{\\left(1.1\\right)^{2} }{2} \\right)\\times \\frac{1}{\\sqrt{2\\pi } } \\exp \\left(-\\frac{\\left(2.5\\right)^{2} }{2} \\right)} \\\\ \n",
    "= & {0.2179\\times 0.0175} \\\\ \n",
    "= &  {0.0038} \n",
    "\\end{align*}\n",
    "$$"
   ]
  },
  {
   "cell_type": "markdown",
   "id": "f83b2f01-00e3-428e-8d62-45f1c05638f0",
   "metadata": {
    "tags": []
   },
   "source": [
    "### Exercise\n",
    "Suppose now that $y_{1} \\sim N\\left(1,1\\right)$ and $y_{2} \\sim N\\left(1,1\\right)$ and are independent\n",
    "1. What are their respective PDFs and joint PDF?\n",
    "2. What is the probability density at $y_{1} =1.1$?\n",
    "3. What is the probability density at $y_{2} =2.5$?\n",
    "4. What is the joint probability density at $y_{1} =1.1$ and $y_{2} =2.5$?"
   ]
  },
  {
   "cell_type": "code",
   "execution_count": null,
   "id": "91b3f792-57cf-4085-b32e-2361cdcd9c81",
   "metadata": {},
   "outputs": [],
   "source": []
  },
  {
   "cell_type": "code",
   "execution_count": null,
   "id": "7559e47a-3087-450a-9e69-222f2e5582eb",
   "metadata": {},
   "outputs": [],
   "source": []
  },
  {
   "cell_type": "code",
   "execution_count": null,
   "id": "4a6d38fa-b04f-4587-af56-00c274497b5d",
   "metadata": {},
   "outputs": [],
   "source": []
  },
  {
   "cell_type": "code",
   "execution_count": null,
   "id": "cc5943af-d7c4-4fb7-a19d-8c283415e19f",
   "metadata": {},
   "outputs": [],
   "source": []
  },
  {
   "cell_type": "markdown",
   "id": "abb2dae0-d8c3-43df-8366-36ea444cf103",
   "metadata": {},
   "source": [
    "### Example"
   ]
  },
  {
   "cell_type": "markdown",
   "id": "927027ac-622b-49b1-84cf-860b30a981b9",
   "metadata": {},
   "source": [
    "Suppose $y_{1} \\sim N\\left(\\mu ,1\\right)$ and $y_{2} \\sim N\\left(\\mu ,1\\right)$, and $\\mu $ is the sole parameter to be estimated, since $\\sigma^{2}=1$. The probability density function of $y_{1}$ and $y_{2} $ are\n",
    "$$\n",
    "f\\left(y_{1} \\right)=\\frac{1}{\\sqrt{2\\pi } } \\exp \\left(-\\frac{\\left(y_{1} -\\mu \\right)^{2} }{2} \\right) \\quad \\textrm{and} \\quad f\\left(y_{2} \\right)=\\frac{1}{\\sqrt{2\\pi } } \\exp \\left(-\\frac{\\left(y_{2} -\\mu \\right)^{2} }{2} \\right)\n",
    "$$\n",
    "The joint probability density of $y_{1} $ and $y_{2} $ is\n",
    "\n",
    "$$\n",
    "\\begin{array}{rcl} {f\\left(y_{1} ,y_{2} \\right)} & {=} & {f\\left(y_{1} \\right)f\\left(y_{2} \\right)} \\\\ {} & {=} & {\\frac{1}{\\sqrt{2\\pi } } \\exp \\left(-\\frac{\\left(y_{1} -\\mu \\right)^{2} }{2} \\right)\\times \\frac{1}{\\sqrt{2\\pi } } \\exp \\left(-\\frac{\\left(y_{2} -\\mu \\right)^{2} }{2} \\right)} \\end{array}\n",
    "$$\n"
   ]
  },
  {
   "cell_type": "markdown",
   "id": "5e50f57e-4cda-412f-aa23-bae85c0f54c9",
   "metadata": {},
   "source": [
    "Hence the likelihood is:\n",
    "$$\n",
    "L\n",
    "\\left(\\mu \\right)=\\frac{1}{\\sqrt{2\\pi } } \\exp \\left(-\\frac{\\left(1.1-\\mu \\right)^{2} }{2} \\right)\\times \\frac{1}{\\sqrt{2\\pi } } \\exp \\left(-\\frac{\\left(2.5-\\mu \\right)^{2} }{2} \\right) \n",
    "$$\n",
    "And the log-likelihood is given by\n",
    "$$\\Downarrow $$\n",
    "\n",
    "$$\n",
    "\\ln L\\left(\\mu \\right)=-\\ln \\sqrt{2\\pi } -\\frac{\\left(1.1-\\mu \\right)^{2} }{2} -\\ln \\sqrt{2\\pi } -\\frac{\\left(2.5-\\mu \\right)^{2} }{2} \n",
    "$$ "
   ]
  },
  {
   "cell_type": "markdown",
   "id": "b0a2db2b-0f48-49dc-a1bf-901e6bdb92b1",
   "metadata": {},
   "source": [
    "Change the step from 1 to 0.1, and re-do the graphs"
   ]
  },
  {
   "cell_type": "code",
   "execution_count": 9,
   "id": "6d7d494b-0b90-4779-b014-de2dcad58e05",
   "metadata": {},
   "outputs": [
    {
     "name": "stderr",
     "output_type": "stream",
     "text": [
      "── \u001b[1mAttaching core tidyverse packages\u001b[22m ──────────────────────── tidyverse 2.0.0 ──\n",
      "\u001b[32m✔\u001b[39m \u001b[34mdplyr    \u001b[39m 1.1.3     \u001b[32m✔\u001b[39m \u001b[34mreadr    \u001b[39m 2.1.4\n",
      "\u001b[32m✔\u001b[39m \u001b[34mforcats  \u001b[39m 1.0.0     \u001b[32m✔\u001b[39m \u001b[34mstringr  \u001b[39m 1.5.0\n",
      "\u001b[32m✔\u001b[39m \u001b[34mggplot2  \u001b[39m 3.4.3     \u001b[32m✔\u001b[39m \u001b[34mtibble   \u001b[39m 3.2.1\n",
      "\u001b[32m✔\u001b[39m \u001b[34mlubridate\u001b[39m 1.9.3     \u001b[32m✔\u001b[39m \u001b[34mtidyr    \u001b[39m 1.3.0\n",
      "\u001b[32m✔\u001b[39m \u001b[34mpurrr    \u001b[39m 1.0.2     \n",
      "── \u001b[1mConflicts\u001b[22m ────────────────────────────────────────── tidyverse_conflicts() ──\n",
      "\u001b[31m✖\u001b[39m \u001b[34mdplyr\u001b[39m::\u001b[32mfilter()\u001b[39m masks \u001b[34mstats\u001b[39m::filter()\n",
      "\u001b[31m✖\u001b[39m \u001b[34mdplyr\u001b[39m::\u001b[32mlag()\u001b[39m    masks \u001b[34mstats\u001b[39m::lag()\n",
      "\u001b[36mℹ\u001b[39m Use the conflicted package (\u001b[3m\u001b[34m<http://conflicted.r-lib.org/>\u001b[39m\u001b[23m) to force all conflicts to become errors\n"
     ]
    }
   ],
   "source": [
    "library(tidyverse)\n",
    "library(knitr)"
   ]
  },
  {
   "cell_type": "code",
   "execution_count": 10,
   "id": "86eb1950-5bee-4de7-ba04-6079f404f9db",
   "metadata": {},
   "outputs": [
    {
     "data": {
      "text/html": [
       "<table class=\"dataframe\">\n",
       "<caption>A matrix: 9 × 2 of type dbl</caption>\n",
       "<thead>\n",
       "\t<tr><th scope=col>l</th><th scope=col>ll</th></tr>\n",
       "</thead>\n",
       "<tbody>\n",
       "\t<tr><td>9.613266e-12</td><td>-25.367877</td></tr>\n",
       "\t<tr><td>5.221599e-08</td><td>-16.767877</td></tr>\n",
       "\t<tr><td>3.838372e-05</td><td>-10.167877</td></tr>\n",
       "\t<tr><td>3.818578e-03</td><td> -5.567877</td></tr>\n",
       "\t<tr><td>5.141234e-02</td><td> -2.967877</td></tr>\n",
       "\t<tr><td>9.367939e-02</td><td> -2.367877</td></tr>\n",
       "\t<tr><td>2.310105e-02</td><td> -3.767877</td></tr>\n",
       "\t<tr><td>7.709577e-04</td><td> -7.167877</td></tr>\n",
       "\t<tr><td>3.482093e-06</td><td>-12.567877</td></tr>\n",
       "</tbody>\n",
       "</table>\n"
      ],
      "text/latex": [
       "A matrix: 9 × 2 of type dbl\n",
       "\\begin{tabular}{ll}\n",
       " l & ll\\\\\n",
       "\\hline\n",
       "\t 9.613266e-12 & -25.367877\\\\\n",
       "\t 5.221599e-08 & -16.767877\\\\\n",
       "\t 3.838372e-05 & -10.167877\\\\\n",
       "\t 3.818578e-03 &  -5.567877\\\\\n",
       "\t 5.141234e-02 &  -2.967877\\\\\n",
       "\t 9.367939e-02 &  -2.367877\\\\\n",
       "\t 2.310105e-02 &  -3.767877\\\\\n",
       "\t 7.709577e-04 &  -7.167877\\\\\n",
       "\t 3.482093e-06 & -12.567877\\\\\n",
       "\\end{tabular}\n"
      ],
      "text/markdown": [
       "\n",
       "A matrix: 9 × 2 of type dbl\n",
       "\n",
       "| l | ll |\n",
       "|---|---|\n",
       "| 9.613266e-12 | -25.367877 |\n",
       "| 5.221599e-08 | -16.767877 |\n",
       "| 3.838372e-05 | -10.167877 |\n",
       "| 3.818578e-03 |  -5.567877 |\n",
       "| 5.141234e-02 |  -2.967877 |\n",
       "| 9.367939e-02 |  -2.367877 |\n",
       "| 2.310105e-02 |  -3.767877 |\n",
       "| 7.709577e-04 |  -7.167877 |\n",
       "| 3.482093e-06 | -12.567877 |\n",
       "\n"
      ],
      "text/plain": [
       "      l            ll        \n",
       " [1,] 9.613266e-12 -25.367877\n",
       " [2,] 5.221599e-08 -16.767877\n",
       " [3,] 3.838372e-05 -10.167877\n",
       " [4,] 3.818578e-03  -5.567877\n",
       " [5,] 5.141234e-02  -2.967877\n",
       " [6,] 9.367939e-02  -2.367877\n",
       " [7,] 2.310105e-02  -3.767877\n",
       " [8,] 7.709577e-04  -7.167877\n",
       " [9,] 3.482093e-06 -12.567877"
      ]
     },
     "metadata": {},
     "output_type": "display_data"
    },
    {
     "data": {
      "text/plain": [
       "\n",
       "\n",
       "Table: Grid-search\n",
       "\n",
       "| Likelihood | Log-Likelihood |\n",
       "|:----------:|:--------------:|\n",
       "|   0.0000   |    -25.3679    |\n",
       "|   0.0000   |    -16.7679    |\n",
       "|   0.0000   |    -10.1679    |\n",
       "|   0.0038   |    -5.5679     |\n",
       "|   0.0514   |    -2.9679     |\n",
       "|   0.0937   |    -2.3679     |\n",
       "|   0.0231   |    -3.7679     |\n",
       "|   0.0008   |    -7.1679     |\n",
       "|   0.0000   |    -12.5679    |"
      ]
     },
     "metadata": {},
     "output_type": "display_data"
    }
   ],
   "source": [
    "ll=NA\n",
    "l=NA\n",
    "y = c(1.1,2.5)\n",
    "mu = seq(-3,5,1)\n",
    "sigma = 1\n",
    "for(i in 1:length(mu)){\n",
    " l[i] = normL(y,mu[i],sigma)\n",
    " ll[i] = lognormL(y,mu[i],sigma)\n",
    "}\n",
    "\n",
    "cbind(l,ll)\n",
    "likelihood1 = cbind(l,ll)\n",
    "kable(likelihood1, col.names = c(\"Likelihood\", \"Log-Likelihood\"),\n",
    "      digits=4, align='c',caption= \"Grid-search\")"
   ]
  },
  {
   "cell_type": "markdown",
   "id": "2536dd8b-20da-4af2-9398-6b0212321e11",
   "metadata": {},
   "source": [
    "#### Plotting the results"
   ]
  },
  {
   "cell_type": "code",
   "execution_count": 11,
   "id": "a5b29a26-a047-48e2-b3f6-c01407b00d9e",
   "metadata": {},
   "outputs": [
    {
     "data": {
      "image/png": "[encoded data removed]",
      "text/plain": [
       "plot without title"
      ]
     },
     "metadata": {
      "image/png": {
       "height": 420,
       "width": 420
      }
     },
     "output_type": "display_data"
    }
   ],
   "source": [
    "par(mfrow = c(2,1), mar = c(3,3,1.2,0.1), mgp = c(2, 1, 0))\n",
    "plot(mu,l,type=\"l\", ylab = \"Likelihood\")\n",
    "plot(mu,ll,type=\"l\", ylab = \"Log-Likelihood\")"
   ]
  },
  {
   "cell_type": "markdown",
   "id": "dc76fd41-0b8e-4470-9eed-b9693acb6ddc",
   "metadata": {},
   "source": [
    "#### We can also solve this analytically"
   ]
  },
  {
   "cell_type": "markdown",
   "id": "9e2eaa89-406d-4ad6-85f3-7f5aa2eb9428",
   "metadata": {},
   "source": [
    "To find $\\mu $ that maximizes the log-likelihood function in example 2.2, take the FOC with respect to $\\mu $\n",
    "$$\n",
    "\\ln L\\left(\\mu \\right)=-\\ln \\sqrt{2\\pi } -\\frac{\\left(1.1-\\mu \\right)^{2} }{2} -\\ln \\sqrt{2\\pi } -\\frac{\\left(2.5-\\mu \\right)^{2} }{2} \n",
    "$$\n",
    "\n",
    "$$\n",
    "\\frac{\\partial }{\\partial \\mu } \\ln L\\left(\\mu \\right)=\\left(1.1-\\mu \\right)+\\left(2.5-\\mu \\right)=0\n",
    "$$\n",
    "\n",
    "$$\n",
    "\\hat{\\mu }_{ML} =\\frac{1}{2} \\left(1.1+2.5\\right)=1.8\n",
    "$$ \n",
    "Now that we have $\\hat{\\mu }_{ML}$, we can plug it back into the objective function\n",
    "$$\n",
    "\\begin{align*} \n",
    "{L\\left(1.8\\right)} = & {\\frac{1}{\\sqrt{2\\pi } } \\exp \\left(-\\frac{\\left(1.1-1.8\\right)^{2} }{2} \\right)\\times \\frac{1}{\\sqrt{2\\pi } } \\exp \\left(-\\frac{\\left(2.5-1.8\\right)^{2} }{2} \\right)} \\\\ \n",
    "= & {0.0975} \n",
    "\\end{align*}\n",
    "$$\n",
    "$$\n",
    "\\begin{align*} \n",
    "{\\ln L\\left(1.8\\right)} =& {-\\ln \\sqrt{2\\pi } -\\frac{\\left(1.1-1.8\\right)^{2} }{2} -\\ln \\sqrt{2\\pi } \\frac{\\left(2.5-1.8\\right)^{2} }{2} } \\\\ \n",
    "= & {-2.327} \n",
    "\\end{align*}\n",
    "$$"
   ]
  },
  {
   "cell_type": "markdown",
   "id": "84517dc7-b57f-4d4c-98d2-e81086dee4a2",
   "metadata": {},
   "source": [
    "### Exercise"
   ]
  },
  {
   "cell_type": "markdown",
   "id": "3d68ac8f-89db-437a-a92f-a80891029385",
   "metadata": {},
   "source": [
    "Let $y_{1}, y_{2}, y_{3}$ be independently distributed and $\\alpha$ be a parameter to be estimated. \n",
    "$$\n",
    "P \\left(y_{i}=1\\right) =\\Phi \\left(\\alpha \\right), P\\left(y_{i} =0\\right)=1-\\Phi \\left(\\alpha\\right)\n",
    "$$\n",
    "for $i=1,\\ldots,3$.\n",
    "\n",
    "1. What is the joint probability that $y_{1} =1,$ $y_{2} =0,$ and $y_{3} =0$?\n",
    "2. What is the likelihood and log-likelihood?\n",
    "3. Find the $\\alpha$ that maximises the log-likelihood function.\n",
    "4. Find an expression for $\\hat{\\alpha}_{ML}$. \n"
   ]
  },
  {
   "cell_type": "code",
   "execution_count": null,
   "id": "92c386c0-3b2b-4b85-a7b9-1b23584b2f5e",
   "metadata": {},
   "outputs": [],
   "source": []
  },
  {
   "cell_type": "code",
   "execution_count": null,
   "id": "19b63c8b-f96c-4f5e-a7ce-bb01306510bd",
   "metadata": {},
   "outputs": [],
   "source": []
  },
  {
   "cell_type": "code",
   "execution_count": null,
   "id": "eecb64a0-ffc0-49a4-8254-703d4bc1ef3b",
   "metadata": {},
   "outputs": [],
   "source": []
  },
  {
   "cell_type": "code",
   "execution_count": null,
   "id": "92844383-f01e-4ac1-b371-722f20196d99",
   "metadata": {},
   "outputs": [],
   "source": []
  }
 ],
 "metadata": {
  "kernelspec": {
   "display_name": "R",
   "language": "R",
   "name": "ir"
  },
  "language_info": {
   "codemirror_mode": "r",
   "file_extension": ".r",
   "mimetype": "text/x-r-source",
   "name": "R",
   "pygments_lexer": "r",
   "version": "4.3.1"
  }
 },
 "nbformat": 4,
 "nbformat_minor": 5
}
