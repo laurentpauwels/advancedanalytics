{
 "cells": [
  {
   "cell_type": "markdown",
   "id": "6aec60b6-2b54-4494-98cb-41aa7a25b839",
   "metadata": {},
   "source": [
    "# Linear Probability Model"
   ]
  },
  {
   "cell_type": "markdown",
   "id": "a683e3ba-e15a-4e1d-8bde-c73ee342b2c8",
   "metadata": {},
   "source": [
    "R Package requirements:\n",
    "* `car`\n",
    "* `broom`"
   ]
  },
  {
   "cell_type": "markdown",
   "id": "6b46a0af-1e03-4e43-ab1e-548944c6f263",
   "metadata": {},
   "source": [
    "`Mroz` data frame contains data about 753 married women. These data are collected within the \"Panel Study of Income Dynamics\" (PSID). Of the 753 observations, the first 428 are for women with positive hours worked in 1975, while the remaining 325 observations are for women who did not work for pay in 1975. A more complete discussion of the data is found in Mroz (1987), Appendix 1.\n",
    "\n",
    "References: Mroz, T.A. (1987). The Sensitivity of an Empirical Model of Married Women's Hours of Work to Economic and Statistical Assumptions. *Econometrica*, **55**, 765–799.\n",
    "\n"
   ]
  },
  {
   "cell_type": "markdown",
   "id": "caf53a9b-9939-4600-a98d-191d772b93c6",
   "metadata": {},
   "source": [
    "This data frame contains the following columns:\n",
    "\n",
    "* **lfp**: labor-force participation; a factor with levels: no; yes.\n",
    "* **k5**: number of children 5 years old or younger.\n",
    "* **k618**: number of children 6 to 18 years old.\n",
    "* **age**: in years.\n",
    "* **wc**: wife's college (university) attendance; a factor with levels: no; yes.\n",
    "* **hc**: husband's college attendance; a factor with levels: no; yes.\n",
    "* **lwg**: log expected wage rate; for women in the labor force, the actual wage rate; for women not in the labor force, an imputed value based on the regression of lwg on the other variables.\n",
    "* **inc**: family income exclusive of wife's income."
   ]
  },
  {
   "cell_type": "code",
   "execution_count": 2,
   "id": "bb8aa0d1-dd0a-4df7-a342-ab7a6e9f08f1",
   "metadata": {},
   "outputs": [],
   "source": [
    "library(car)\n",
    "library(broom)"
   ]
  },
  {
   "cell_type": "code",
   "execution_count": 3,
   "id": "b5949564-b39f-42e2-aed9-a052c8ea0674",
   "metadata": {},
   "outputs": [
    {
     "data": {
      "text/html": [
       "<table class=\"dataframe\">\n",
       "<caption>A data.frame: 6 × 8</caption>\n",
       "<thead>\n",
       "\t<tr><th></th><th scope=col>lfp</th><th scope=col>k5</th><th scope=col>k618</th><th scope=col>age</th><th scope=col>wc</th><th scope=col>hc</th><th scope=col>lwg</th><th scope=col>inc</th></tr>\n",
       "\t<tr><th></th><th scope=col>&lt;fct&gt;</th><th scope=col>&lt;int&gt;</th><th scope=col>&lt;int&gt;</th><th scope=col>&lt;int&gt;</th><th scope=col>&lt;fct&gt;</th><th scope=col>&lt;fct&gt;</th><th scope=col>&lt;dbl&gt;</th><th scope=col>&lt;dbl&gt;</th></tr>\n",
       "</thead>\n",
       "<tbody>\n",
       "\t<tr><th scope=row>1</th><td>yes</td><td>1</td><td>0</td><td>32</td><td>no </td><td>no</td><td>1.2101647</td><td>10.910</td></tr>\n",
       "\t<tr><th scope=row>2</th><td>yes</td><td>0</td><td>2</td><td>30</td><td>no </td><td>no</td><td>0.3285041</td><td>19.500</td></tr>\n",
       "\t<tr><th scope=row>3</th><td>yes</td><td>1</td><td>3</td><td>35</td><td>no </td><td>no</td><td>1.5141279</td><td>12.040</td></tr>\n",
       "\t<tr><th scope=row>4</th><td>yes</td><td>0</td><td>3</td><td>34</td><td>no </td><td>no</td><td>0.0921151</td><td> 6.800</td></tr>\n",
       "\t<tr><th scope=row>5</th><td>yes</td><td>1</td><td>2</td><td>31</td><td>yes</td><td>no</td><td>1.5242802</td><td>20.100</td></tr>\n",
       "\t<tr><th scope=row>6</th><td>yes</td><td>0</td><td>0</td><td>54</td><td>no </td><td>no</td><td>1.5564855</td><td> 9.859</td></tr>\n",
       "</tbody>\n",
       "</table>\n"
      ],
      "text/latex": [
       "A data.frame: 6 × 8\n",
       "\\begin{tabular}{r|llllllll}\n",
       "  & lfp & k5 & k618 & age & wc & hc & lwg & inc\\\\\n",
       "  & <fct> & <int> & <int> & <int> & <fct> & <fct> & <dbl> & <dbl>\\\\\n",
       "\\hline\n",
       "\t1 & yes & 1 & 0 & 32 & no  & no & 1.2101647 & 10.910\\\\\n",
       "\t2 & yes & 0 & 2 & 30 & no  & no & 0.3285041 & 19.500\\\\\n",
       "\t3 & yes & 1 & 3 & 35 & no  & no & 1.5141279 & 12.040\\\\\n",
       "\t4 & yes & 0 & 3 & 34 & no  & no & 0.0921151 &  6.800\\\\\n",
       "\t5 & yes & 1 & 2 & 31 & yes & no & 1.5242802 & 20.100\\\\\n",
       "\t6 & yes & 0 & 0 & 54 & no  & no & 1.5564855 &  9.859\\\\\n",
       "\\end{tabular}\n"
      ],
      "text/markdown": [
       "\n",
       "A data.frame: 6 × 8\n",
       "\n",
       "| <!--/--> | lfp &lt;fct&gt; | k5 &lt;int&gt; | k618 &lt;int&gt; | age &lt;int&gt; | wc &lt;fct&gt; | hc &lt;fct&gt; | lwg &lt;dbl&gt; | inc &lt;dbl&gt; |\n",
       "|---|---|---|---|---|---|---|---|---|\n",
       "| 1 | yes | 1 | 0 | 32 | no  | no | 1.2101647 | 10.910 |\n",
       "| 2 | yes | 0 | 2 | 30 | no  | no | 0.3285041 | 19.500 |\n",
       "| 3 | yes | 1 | 3 | 35 | no  | no | 1.5141279 | 12.040 |\n",
       "| 4 | yes | 0 | 3 | 34 | no  | no | 0.0921151 |  6.800 |\n",
       "| 5 | yes | 1 | 2 | 31 | yes | no | 1.5242802 | 20.100 |\n",
       "| 6 | yes | 0 | 0 | 54 | no  | no | 1.5564855 |  9.859 |\n",
       "\n"
      ],
      "text/plain": [
       "  lfp k5 k618 age wc  hc lwg       inc   \n",
       "1 yes 1  0    32  no  no 1.2101647 10.910\n",
       "2 yes 0  2    30  no  no 0.3285041 19.500\n",
       "3 yes 1  3    35  no  no 1.5141279 12.040\n",
       "4 yes 0  3    34  no  no 0.0921151  6.800\n",
       "5 yes 1  2    31  yes no 1.5242802 20.100\n",
       "6 yes 0  0    54  no  no 1.5564855  9.859"
      ]
     },
     "metadata": {},
     "output_type": "display_data"
    }
   ],
   "source": [
    "mroz <- Mroz\n",
    "head(mroz)"
   ]
  },
  {
   "cell_type": "code",
   "execution_count": 4,
   "id": "6527a2d1-74c6-475c-a780-e39ee161c4d5",
   "metadata": {},
   "outputs": [
    {
     "data": {
      "text/plain": [
       "      lfp               k5              k618            age       \n",
       " Min.   :0.0000   Min.   :0.0000   Min.   :0.000   Min.   :30.00  \n",
       " 1st Qu.:0.0000   1st Qu.:0.0000   1st Qu.:0.000   1st Qu.:36.00  \n",
       " Median :1.0000   Median :0.0000   Median :1.000   Median :43.00  \n",
       " Mean   :0.5684   Mean   :0.2377   Mean   :1.353   Mean   :42.54  \n",
       " 3rd Qu.:1.0000   3rd Qu.:0.0000   3rd Qu.:2.000   3rd Qu.:49.00  \n",
       " Max.   :1.0000   Max.   :3.0000   Max.   :8.000   Max.   :60.00  \n",
       "       wc               hc              lwg               inc        \n",
       " Min.   :0.0000   Min.   :0.0000   Min.   :-2.0541   Min.   :-0.029  \n",
       " 1st Qu.:0.0000   1st Qu.:0.0000   1st Qu.: 0.8181   1st Qu.:13.025  \n",
       " Median :0.0000   Median :0.0000   Median : 1.0684   Median :17.700  \n",
       " Mean   :0.2815   Mean   :0.3918   Mean   : 1.0971   Mean   :20.129  \n",
       " 3rd Qu.:1.0000   3rd Qu.:1.0000   3rd Qu.: 1.3997   3rd Qu.:24.466  \n",
       " Max.   :1.0000   Max.   :1.0000   Max.   : 3.2189   Max.   :96.000  "
      ]
     },
     "metadata": {},
     "output_type": "display_data"
    }
   ],
   "source": [
    "mroz$lfp = ifelse(mroz$lfp==\"yes\", 1, 0)\n",
    "mroz$wc = ifelse(mroz$wc==\"yes\", 1, 0)\n",
    "mroz$hc = ifelse(mroz$hc==\"yes\", 1, 0)\n",
    "summary(mroz)"
   ]
  },
  {
   "cell_type": "markdown",
   "id": "bccb9f59-c64e-48d7-ad2e-1752adc78451",
   "metadata": {},
   "source": [
    "OLS Model\n",
    "$$\n",
    "y_{i} =\\beta _{1} +\\beta _{2} x_{i2} +\\beta _{3} x_{i3} +\\beta _{4} x_{i4} +u_{i} \n",
    "$$ \n",
    "\n",
    "$$\n",
    "y_{i} =\\left \\{ \\begin{array}{ll} 1 \\quad \\textrm{if individual i works outside the home}\\\\\n",
    "0 \\quad \\textrm{otherwise}\n",
    "\\end{array} \\right.\n",
    "$$\n",
    "* $x_{2}$: other income (incl partner's earnings, etc.) ($x_{2}$ is measured in thousands dollars)\n",
    "* $x_{3}$: university education\n",
    "* $x_{4}$: # children less than 6 years old \n",
    "\n",
    "What do you expect the signs of $\\beta$'s to be?"
   ]
  },
  {
   "cell_type": "code",
   "execution_count": 5,
   "id": "1803c247-11fd-4663-b361-78018a7db364",
   "metadata": {},
   "outputs": [
    {
     "data": {
      "text/html": [
       "<table class=\"dataframe\">\n",
       "<caption>A tibble: 4 × 5</caption>\n",
       "<thead>\n",
       "\t<tr><th scope=col>term</th><th scope=col>estimate</th><th scope=col>std.error</th><th scope=col>statistic</th><th scope=col>p.value</th></tr>\n",
       "\t<tr><th scope=col>&lt;chr&gt;</th><th scope=col>&lt;dbl&gt;</th><th scope=col>&lt;dbl&gt;</th><th scope=col>&lt;dbl&gt;</th><th scope=col>&lt;dbl&gt;</th></tr>\n",
       "</thead>\n",
       "<tbody>\n",
       "\t<tr><td>(Intercept)</td><td> 0.698271765</td><td>0.035043283</td><td>19.925980</td><td>3.281793e-71</td></tr>\n",
       "\t<tr><td>mroz$inc   </td><td>-0.007141772</td><td>0.001538121</td><td>-4.643181</td><td>4.051074e-06</td></tr>\n",
       "\t<tr><td>mroz$wc    </td><td> 0.233627958</td><td>0.039979959</td><td> 5.843627</td><td>7.618145e-09</td></tr>\n",
       "\t<tr><td>mroz$k5    </td><td>-0.218319205</td><td>0.033015707</td><td>-6.612586</td><td>7.180021e-11</td></tr>\n",
       "</tbody>\n",
       "</table>\n"
      ],
      "text/latex": [
       "A tibble: 4 × 5\n",
       "\\begin{tabular}{lllll}\n",
       " term & estimate & std.error & statistic & p.value\\\\\n",
       " <chr> & <dbl> & <dbl> & <dbl> & <dbl>\\\\\n",
       "\\hline\n",
       "\t (Intercept) &  0.698271765 & 0.035043283 & 19.925980 & 3.281793e-71\\\\\n",
       "\t mroz\\$inc    & -0.007141772 & 0.001538121 & -4.643181 & 4.051074e-06\\\\\n",
       "\t mroz\\$wc     &  0.233627958 & 0.039979959 &  5.843627 & 7.618145e-09\\\\\n",
       "\t mroz\\$k5     & -0.218319205 & 0.033015707 & -6.612586 & 7.180021e-11\\\\\n",
       "\\end{tabular}\n"
      ],
      "text/markdown": [
       "\n",
       "A tibble: 4 × 5\n",
       "\n",
       "| term &lt;chr&gt; | estimate &lt;dbl&gt; | std.error &lt;dbl&gt; | statistic &lt;dbl&gt; | p.value &lt;dbl&gt; |\n",
       "|---|---|---|---|---|\n",
       "| (Intercept) |  0.698271765 | 0.035043283 | 19.925980 | 3.281793e-71 |\n",
       "| mroz$inc    | -0.007141772 | 0.001538121 | -4.643181 | 4.051074e-06 |\n",
       "| mroz$wc     |  0.233627958 | 0.039979959 |  5.843627 | 7.618145e-09 |\n",
       "| mroz$k5     | -0.218319205 | 0.033015707 | -6.612586 | 7.180021e-11 |\n",
       "\n"
      ],
      "text/plain": [
       "  term        estimate     std.error   statistic p.value     \n",
       "1 (Intercept)  0.698271765 0.035043283 19.925980 3.281793e-71\n",
       "2 mroz$inc    -0.007141772 0.001538121 -4.643181 4.051074e-06\n",
       "3 mroz$wc      0.233627958 0.039979959  5.843627 7.618145e-09\n",
       "4 mroz$k5     -0.218319205 0.033015707 -6.612586 7.180021e-11"
      ]
     },
     "metadata": {},
     "output_type": "display_data"
    }
   ],
   "source": [
    "mroz.lpm<-lm(mroz$lfp ~ mroz$inc+mroz$wc+mroz$k5, data=mroz)    \n",
    "tidy(mroz.lpm)\n",
    "#summary(mroz.lpm)"
   ]
  },
  {
   "cell_type": "code",
   "execution_count": null,
   "id": "3603a24e-273f-416a-b420-c7ebdbd653c5",
   "metadata": {},
   "outputs": [],
   "source": []
  },
  {
   "cell_type": "markdown",
   "id": "45e03911-62a2-4780-b12f-75a57114996e",
   "metadata": {},
   "source": [
    "The estimated probabilities can be written as:\n",
    "$$\n",
    "\\widehat{\\Pr }\\left(y_{i} =1\\right)=\\hat{y}_{i} =\\hat{\\beta }_{1} +\\hat{\\beta }_{2} x_{i2} +\\hat{\\beta }_{3} x_{i3} +\\hat{\\beta }_{4} x_{i4} \n",
    "$$ \n",
    "Interpreting the coefficients and the probabilities\n",
    "$$\n",
    "\\frac{\\partial P\\left(y=1|x\\right)}{\\partial x_{i} } =\\beta _{i} \\quad i=0,1,2,3\n",
    "$$\n",
    "1. Interpret the constant term, $\\beta_{1}$\n",
    "2. Interpret Other Income, $\\beta_{2}$. What would you predict if she obtains \\$10,000 more of Other Income?\n",
    "3. Interpret Years Education, $\\beta_{3}$.\n",
    "4. Interpret # kids $<6$yrs? What would you predict if the family has an additional kid $<6$yrs\n",
    "5. What is the probability for a woman with $0$ other income, university education and $1$ kids $<6$yrs?\n",
    "6. What is the probability for a woman with $0$ other income, $15$ years of education and $3$ kids $<6$yrs?"
   ]
  },
  {
   "cell_type": "code",
   "execution_count": 6,
   "id": "2ae82180-db27-42ae-af45-77ff1718832e",
   "metadata": {},
   "outputs": [
    {
     "name": "stdout",
     "output_type": "stream",
     "text": [
      "[1] 0.7135805\n"
     ]
    }
   ],
   "source": [
    "coefs <- mroz.lpm$coefficients[1:4]\n",
    "values <- c(1,0,1,1)\n",
    "probhat <- sum(coefs*values)\n",
    "print(probhat)"
   ]
  },
  {
   "cell_type": "code",
   "execution_count": null,
   "id": "23bc8907-0a82-4988-a95b-6d6e5e00f2d7",
   "metadata": {},
   "outputs": [],
   "source": []
  },
  {
   "cell_type": "code",
   "execution_count": null,
   "id": "8764c4b7-5829-4ba3-8c3c-d201c51a3c9d",
   "metadata": {},
   "outputs": [],
   "source": []
  }
 ],
 "metadata": {
  "kernelspec": {
   "display_name": "R",
   "language": "R",
   "name": "ir"
  },
  "language_info": {
   "codemirror_mode": "r",
   "file_extension": ".r",
   "mimetype": "text/x-r-source",
   "name": "R",
   "pygments_lexer": "r",
   "version": "4.3.1"
  }
 },
 "nbformat": 4,
 "nbformat_minor": 5
}
