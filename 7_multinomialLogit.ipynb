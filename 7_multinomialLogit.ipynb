{
 "cells": [
  {
   "cell_type": "markdown",
   "id": "35cff76a-9d5e-409a-a8f9-c7ee4535c7e5",
   "metadata": {},
   "source": [
    "# Multinomial Logit & Unordered Data"
   ]
  },
  {
   "cell_type": "markdown",
   "id": "53a9b2ad-8b00-44c3-ab12-79333e0fc6e5",
   "metadata": {},
   "source": [
    "R Package requirements:\n",
    "* `zoo`\n",
    "* `mlogit`\n",
    "* `tidyverse`\n",
    "* `broom`\n",
    "* `mfx`\n",
    "* `effects`"
   ]
  },
  {
   "cell_type": "markdown",
   "id": "b79494e2-b45b-49f7-af31-c53037306104",
   "metadata": {},
   "source": [
    "Reference: https://rdrr.io/rforge/mlogit/\n",
    "\n",
    "`mlogit` provides a model description interface (enhanced formula-data), a very versatile estimation function and a testing infrastructure to deal with random utility models."
   ]
  },
  {
   "cell_type": "code",
   "execution_count": 2,
   "id": "b6e9e29e-fa7e-4a12-af12-237c6ed7b27d",
   "metadata": {},
   "outputs": [],
   "source": [
    "library(tidyverse)\n",
    "library(broom)\n",
    "library(mlogit)\n",
    "library(zoo)"
   ]
  },
  {
   "cell_type": "code",
   "execution_count": 3,
   "id": "ad17ac2c-a7a4-4f85-a6c8-8de420e6c24b",
   "metadata": {},
   "outputs": [
    {
     "data": {
      "text/html": [
       "<table class=\"dataframe\">\n",
       "<caption>A data.frame: 10 × 10</caption>\n",
       "<thead>\n",
       "\t<tr><th></th><th scope=col>mode</th><th scope=col>price.beach</th><th scope=col>price.pier</th><th scope=col>price.boat</th><th scope=col>price.charter</th><th scope=col>catch.beach</th><th scope=col>catch.pier</th><th scope=col>catch.boat</th><th scope=col>catch.charter</th><th scope=col>income</th></tr>\n",
       "\t<tr><th></th><th scope=col>&lt;fct&gt;</th><th scope=col>&lt;dbl&gt;</th><th scope=col>&lt;dbl&gt;</th><th scope=col>&lt;dbl&gt;</th><th scope=col>&lt;dbl&gt;</th><th scope=col>&lt;dbl&gt;</th><th scope=col>&lt;dbl&gt;</th><th scope=col>&lt;dbl&gt;</th><th scope=col>&lt;dbl&gt;</th><th scope=col>&lt;dbl&gt;</th></tr>\n",
       "</thead>\n",
       "<tbody>\n",
       "\t<tr><th scope=row>1</th><td>charter</td><td>157.930</td><td>157.930</td><td>157.930</td><td>182.930</td><td>0.0678</td><td>0.0503</td><td>0.2601</td><td>0.5391</td><td>7083.332</td></tr>\n",
       "\t<tr><th scope=row>2</th><td>charter</td><td> 15.114</td><td> 15.114</td><td> 10.534</td><td> 34.534</td><td>0.1049</td><td>0.0451</td><td>0.1574</td><td>0.4671</td><td>1250.000</td></tr>\n",
       "\t<tr><th scope=row>3</th><td>boat   </td><td>161.874</td><td>161.874</td><td> 24.334</td><td> 59.334</td><td>0.5333</td><td>0.4522</td><td>0.2413</td><td>1.0266</td><td>3750.000</td></tr>\n",
       "\t<tr><th scope=row>4</th><td>pier   </td><td> 15.134</td><td> 15.134</td><td> 55.930</td><td> 84.930</td><td>0.0678</td><td>0.0789</td><td>0.1643</td><td>0.5391</td><td>2083.333</td></tr>\n",
       "\t<tr><th scope=row>5</th><td>boat   </td><td>106.930</td><td>106.930</td><td> 41.514</td><td> 71.014</td><td>0.0678</td><td>0.0503</td><td>0.1082</td><td>0.3240</td><td>4583.332</td></tr>\n",
       "\t<tr><th scope=row>6</th><td>charter</td><td>192.474</td><td>192.474</td><td> 28.934</td><td> 63.934</td><td>0.5333</td><td>0.4522</td><td>0.1665</td><td>0.3975</td><td>4583.332</td></tr>\n",
       "\t<tr><th scope=row>7</th><td>beach  </td><td> 51.934</td><td> 51.934</td><td>191.930</td><td>220.930</td><td>0.0678</td><td>0.0789</td><td>0.1643</td><td>0.5391</td><td>8750.001</td></tr>\n",
       "\t<tr><th scope=row>8</th><td>charter</td><td> 15.134</td><td> 15.134</td><td> 21.714</td><td> 56.714</td><td>0.0678</td><td>0.0789</td><td>0.0102</td><td>0.0209</td><td>2083.333</td></tr>\n",
       "\t<tr><th scope=row>9</th><td>boat   </td><td> 34.914</td><td> 34.914</td><td> 34.914</td><td> 53.414</td><td>0.2537</td><td>0.1498</td><td>0.0233</td><td>0.0219</td><td>3750.000</td></tr>\n",
       "\t<tr><th scope=row>10</th><td>boat   </td><td> 28.314</td><td> 28.314</td><td> 28.314</td><td> 46.814</td><td>0.2537</td><td>0.1498</td><td>0.0233</td><td>0.0219</td><td>2916.667</td></tr>\n",
       "</tbody>\n",
       "</table>\n"
      ],
      "text/latex": [
       "A data.frame: 10 × 10\n",
       "\\begin{tabular}{r|llllllllll}\n",
       "  & mode & price.beach & price.pier & price.boat & price.charter & catch.beach & catch.pier & catch.boat & catch.charter & income\\\\\n",
       "  & <fct> & <dbl> & <dbl> & <dbl> & <dbl> & <dbl> & <dbl> & <dbl> & <dbl> & <dbl>\\\\\n",
       "\\hline\n",
       "\t1 & charter & 157.930 & 157.930 & 157.930 & 182.930 & 0.0678 & 0.0503 & 0.2601 & 0.5391 & 7083.332\\\\\n",
       "\t2 & charter &  15.114 &  15.114 &  10.534 &  34.534 & 0.1049 & 0.0451 & 0.1574 & 0.4671 & 1250.000\\\\\n",
       "\t3 & boat    & 161.874 & 161.874 &  24.334 &  59.334 & 0.5333 & 0.4522 & 0.2413 & 1.0266 & 3750.000\\\\\n",
       "\t4 & pier    &  15.134 &  15.134 &  55.930 &  84.930 & 0.0678 & 0.0789 & 0.1643 & 0.5391 & 2083.333\\\\\n",
       "\t5 & boat    & 106.930 & 106.930 &  41.514 &  71.014 & 0.0678 & 0.0503 & 0.1082 & 0.3240 & 4583.332\\\\\n",
       "\t6 & charter & 192.474 & 192.474 &  28.934 &  63.934 & 0.5333 & 0.4522 & 0.1665 & 0.3975 & 4583.332\\\\\n",
       "\t7 & beach   &  51.934 &  51.934 & 191.930 & 220.930 & 0.0678 & 0.0789 & 0.1643 & 0.5391 & 8750.001\\\\\n",
       "\t8 & charter &  15.134 &  15.134 &  21.714 &  56.714 & 0.0678 & 0.0789 & 0.0102 & 0.0209 & 2083.333\\\\\n",
       "\t9 & boat    &  34.914 &  34.914 &  34.914 &  53.414 & 0.2537 & 0.1498 & 0.0233 & 0.0219 & 3750.000\\\\\n",
       "\t10 & boat    &  28.314 &  28.314 &  28.314 &  46.814 & 0.2537 & 0.1498 & 0.0233 & 0.0219 & 2916.667\\\\\n",
       "\\end{tabular}\n"
      ],
      "text/markdown": [
       "\n",
       "A data.frame: 10 × 10\n",
       "\n",
       "| <!--/--> | mode &lt;fct&gt; | price.beach &lt;dbl&gt; | price.pier &lt;dbl&gt; | price.boat &lt;dbl&gt; | price.charter &lt;dbl&gt; | catch.beach &lt;dbl&gt; | catch.pier &lt;dbl&gt; | catch.boat &lt;dbl&gt; | catch.charter &lt;dbl&gt; | income &lt;dbl&gt; |\n",
       "|---|---|---|---|---|---|---|---|---|---|---|\n",
       "| 1 | charter | 157.930 | 157.930 | 157.930 | 182.930 | 0.0678 | 0.0503 | 0.2601 | 0.5391 | 7083.332 |\n",
       "| 2 | charter |  15.114 |  15.114 |  10.534 |  34.534 | 0.1049 | 0.0451 | 0.1574 | 0.4671 | 1250.000 |\n",
       "| 3 | boat    | 161.874 | 161.874 |  24.334 |  59.334 | 0.5333 | 0.4522 | 0.2413 | 1.0266 | 3750.000 |\n",
       "| 4 | pier    |  15.134 |  15.134 |  55.930 |  84.930 | 0.0678 | 0.0789 | 0.1643 | 0.5391 | 2083.333 |\n",
       "| 5 | boat    | 106.930 | 106.930 |  41.514 |  71.014 | 0.0678 | 0.0503 | 0.1082 | 0.3240 | 4583.332 |\n",
       "| 6 | charter | 192.474 | 192.474 |  28.934 |  63.934 | 0.5333 | 0.4522 | 0.1665 | 0.3975 | 4583.332 |\n",
       "| 7 | beach   |  51.934 |  51.934 | 191.930 | 220.930 | 0.0678 | 0.0789 | 0.1643 | 0.5391 | 8750.001 |\n",
       "| 8 | charter |  15.134 |  15.134 |  21.714 |  56.714 | 0.0678 | 0.0789 | 0.0102 | 0.0209 | 2083.333 |\n",
       "| 9 | boat    |  34.914 |  34.914 |  34.914 |  53.414 | 0.2537 | 0.1498 | 0.0233 | 0.0219 | 3750.000 |\n",
       "| 10 | boat    |  28.314 |  28.314 |  28.314 |  46.814 | 0.2537 | 0.1498 | 0.0233 | 0.0219 | 2916.667 |\n",
       "\n"
      ],
      "text/plain": [
       "   mode    price.beach price.pier price.boat price.charter catch.beach\n",
       "1  charter 157.930     157.930    157.930    182.930       0.0678     \n",
       "2  charter  15.114      15.114     10.534     34.534       0.1049     \n",
       "3  boat    161.874     161.874     24.334     59.334       0.5333     \n",
       "4  pier     15.134      15.134     55.930     84.930       0.0678     \n",
       "5  boat    106.930     106.930     41.514     71.014       0.0678     \n",
       "6  charter 192.474     192.474     28.934     63.934       0.5333     \n",
       "7  beach    51.934      51.934    191.930    220.930       0.0678     \n",
       "8  charter  15.134      15.134     21.714     56.714       0.0678     \n",
       "9  boat     34.914      34.914     34.914     53.414       0.2537     \n",
       "10 boat     28.314      28.314     28.314     46.814       0.2537     \n",
       "   catch.pier catch.boat catch.charter income  \n",
       "1  0.0503     0.2601     0.5391        7083.332\n",
       "2  0.0451     0.1574     0.4671        1250.000\n",
       "3  0.4522     0.2413     1.0266        3750.000\n",
       "4  0.0789     0.1643     0.5391        2083.333\n",
       "5  0.0503     0.1082     0.3240        4583.332\n",
       "6  0.4522     0.1665     0.3975        4583.332\n",
       "7  0.0789     0.1643     0.5391        8750.001\n",
       "8  0.0789     0.0102     0.0209        2083.333\n",
       "9  0.1498     0.0233     0.0219        3750.000\n",
       "10 0.1498     0.0233     0.0219        2916.667"
      ]
     },
     "metadata": {},
     "output_type": "display_data"
    }
   ],
   "source": [
    "data(\"Fishing\", package = \"mlogit\")\n",
    "head(Fishing, 10)"
   ]
  },
  {
   "cell_type": "markdown",
   "id": "b3a006d3-3840-439e-8de9-ad1fba16c740",
   "metadata": {},
   "source": [
    "A sample of 1182 individuals in the United-States for the choice of 4 alternative fishing modes.\n",
    "\n",
    "A dataframe containing :\n",
    "* mode: recreation mode choice, one of : beach, pier, boat and charter, \n",
    "* price.beach: price for beach mode\n",
    "* price.pier: price for pier mode,\n",
    "* price.boat: price for private boat mode,\n",
    "* price.charter: price for charter boat mode,\n",
    "* catch.beach: catch rate for beach mode,\n",
    "* catch.pier: catch rate for pier mode,\n",
    "* catch.boat: catch rate for private boat mode,\n",
    "* catch.charter: catch rate for charter boat mode, \n",
    "* income: monthly income,"
   ]
  },
  {
   "cell_type": "markdown",
   "id": "a1c0b7fb-2394-4f09-9f3a-fef0f44e1459",
   "metadata": {},
   "source": [
    "4 fishing modes: \n",
    "* beach, \n",
    "* pier, \n",
    "* boat, \n",
    "* charter, \n",
    "\n",
    "2 alternative specific variables \n",
    "* price and \n",
    "* catch \n",
    "and one choice/individual specific variable \n",
    "* income. \n",
    "\n",
    "This *wide* format is suitable to store individual specific variables. Otherwise, it is cumbersome for alternative specific variables because there are as many columns for such variables that there are alternatives."
   ]
  },
  {
   "cell_type": "markdown",
   "id": "4f4c4ce9-95ca-4497-8a62-42f097946173",
   "metadata": {},
   "source": [
    "Datasets can have two different format or shape:\n",
    "* a wide shape: one row for each choice situation,\n",
    "* a long shape: one row for each alternative and hence as many rows as there are alternatives for each choice situation.\n",
    "\n",
    "`mlogit` deals with both format. The `mlogit.data` function that take as first argument a `data.frame` and returns a `data.frame` in *long* format with some information about the structure of the data.\n",
    "For example:"
   ]
  },
  {
   "cell_type": "code",
   "execution_count": 4,
   "id": "7df6d0db-29a3-4496-9957-a49b9ef566ef",
   "metadata": {},
   "outputs": [
    {
     "name": "stdout",
     "output_type": "stream",
     "text": [
      "~~~~~~~\n",
      " first 10 observations out of 4728 \n",
      "~~~~~~~\n",
      "    mode   income     alt   price  catch chid    idx\n",
      "1  FALSE 7083.332   beach 157.930 0.0678    1 1:each\n",
      "2  FALSE 7083.332    boat 157.930 0.2601    1 1:boat\n",
      "3   TRUE 7083.332 charter 182.930 0.5391    1 1:rter\n",
      "4  FALSE 7083.332    pier 157.930 0.0503    1 1:pier\n",
      "5  FALSE 1250.000   beach  15.114 0.1049    2 2:each\n",
      "6  FALSE 1250.000    boat  10.534 0.1574    2 2:boat\n",
      "7   TRUE 1250.000 charter  34.534 0.4671    2 2:rter\n",
      "8  FALSE 1250.000    pier  15.114 0.0451    2 2:pier\n",
      "9  FALSE 3750.000   beach 161.874 0.5333    3 3:each\n",
      "10  TRUE 3750.000    boat  24.334 0.2413    3 3:boat\n",
      "\n",
      "~~~ indexes ~~~~\n",
      "   chid     alt\n",
      "1     1   beach\n",
      "2     1    boat\n",
      "3     1 charter\n",
      "4     1    pier\n",
      "5     2   beach\n",
      "6     2    boat\n",
      "7     2 charter\n",
      "8     2    pier\n",
      "9     3   beach\n",
      "10    3    boat\n",
      "indexes:  1, 2 \n"
     ]
    }
   ],
   "source": [
    "Fish <- mlogit.data(Fishing, varying = c(2:9), shape = \"wide\", choice = \"mode\")\n",
    "head(Fish,10)\n"
   ]
  },
  {
   "cell_type": "code",
   "execution_count": 5,
   "id": "95538926-4649-40ca-8dfc-8a38df25f9e2",
   "metadata": {},
   "outputs": [],
   "source": [
    "Fish$inc1 <- Fish$income/1000 "
   ]
  },
  {
   "cell_type": "markdown",
   "id": "44126314-9928-43df-9ef7-d08e7437c247",
   "metadata": {},
   "source": [
    "The *choice* variable is a logical variable and the individual specific variable, *income*, is repeated 4 times. An index attribute is added to the data, which contains the two relevant index: `chid` is the choice index and `alt` index. "
   ]
  },
  {
   "cell_type": "code",
   "execution_count": 6,
   "id": "867bc99a-b005-4d56-a546-daeade07fbfc",
   "metadata": {},
   "outputs": [
    {
     "data": {
      "text/html": [
       "<table class=\"dataframe\">\n",
       "<caption>A idx: 6 × 2</caption>\n",
       "<thead>\n",
       "\t<tr><th></th><th scope=col>chid</th><th scope=col>alt</th></tr>\n",
       "\t<tr><th></th><th scope=col>&lt;int&gt;</th><th scope=col>&lt;fct&gt;</th></tr>\n",
       "</thead>\n",
       "<tbody>\n",
       "\t<tr><th scope=row>1</th><td>1</td><td>beach  </td></tr>\n",
       "\t<tr><th scope=row>2</th><td>1</td><td>boat   </td></tr>\n",
       "\t<tr><th scope=row>3</th><td>1</td><td>charter</td></tr>\n",
       "\t<tr><th scope=row>4</th><td>1</td><td>pier   </td></tr>\n",
       "\t<tr><th scope=row>5</th><td>2</td><td>beach  </td></tr>\n",
       "\t<tr><th scope=row>6</th><td>2</td><td>boat   </td></tr>\n",
       "</tbody>\n",
       "</table>\n"
      ],
      "text/latex": [
       "A idx: 6 × 2\n",
       "\\begin{tabular}{r|ll}\n",
       "  & chid & alt\\\\\n",
       "  & <int> & <fct>\\\\\n",
       "\\hline\n",
       "\t1 & 1 & beach  \\\\\n",
       "\t2 & 1 & boat   \\\\\n",
       "\t3 & 1 & charter\\\\\n",
       "\t4 & 1 & pier   \\\\\n",
       "\t5 & 2 & beach  \\\\\n",
       "\t6 & 2 & boat   \\\\\n",
       "\\end{tabular}\n"
      ],
      "text/markdown": [
       "\n",
       "A idx: 6 × 2\n",
       "\n",
       "| <!--/--> | chid &lt;int&gt; | alt &lt;fct&gt; |\n",
       "|---|---|---|\n",
       "| 1 | 1 | beach   |\n",
       "| 2 | 1 | boat    |\n",
       "| 3 | 1 | charter |\n",
       "| 4 | 1 | pier    |\n",
       "| 5 | 2 | beach   |\n",
       "| 6 | 2 | boat    |\n",
       "\n"
      ],
      "text/plain": [
       "  chid alt    \n",
       "1 1    beach  \n",
       "2 1    boat   \n",
       "3 1    charter\n",
       "4 1    pier   \n",
       "5 2    beach  \n",
       "6 2    boat   "
      ]
     },
     "metadata": {},
     "output_type": "display_data"
    }
   ],
   "source": [
    "head(index(Fish))"
   ]
  },
  {
   "cell_type": "markdown",
   "id": "f6507a88-6fca-4b59-bf19-8e304601b678",
   "metadata": {},
   "source": [
    "## Multinomial Logit"
   ]
  },
  {
   "cell_type": "code",
   "execution_count": 7,
   "id": "ad21f3dc-373d-4d16-b950-36c1ba6decd2",
   "metadata": {},
   "outputs": [
    {
     "data": {
      "text/html": [
       "<table class=\"dataframe\">\n",
       "<caption>A tibble: 6 × 5</caption>\n",
       "<thead>\n",
       "\t<tr><th scope=col>term</th><th scope=col>estimate</th><th scope=col>std.error</th><th scope=col>statistic</th><th scope=col>p.value</th></tr>\n",
       "\t<tr><th scope=col>&lt;chr&gt;</th><th scope=col>&lt;dbl&gt;</th><th scope=col>&lt;dbl&gt;</th><th scope=col>&lt;dbl&gt;</th><th scope=col>&lt;dbl&gt;</th></tr>\n",
       "</thead>\n",
       "<tbody>\n",
       "\t<tr><td>(Intercept):beach</td><td>-1.34129144</td><td>0.19451671</td><td>-6.8955076</td><td>5.367262e-12</td></tr>\n",
       "\t<tr><td>(Intercept):boat </td><td>-0.60237067</td><td>0.13609637</td><td>-4.4260597</td><td>9.596998e-06</td></tr>\n",
       "\t<tr><td>(Intercept):pier </td><td>-0.52714117</td><td>0.17778419</td><td>-2.9650622</td><td>3.026218e-03</td></tr>\n",
       "\t<tr><td>inc1:beach       </td><td> 0.03163988</td><td>0.04184630</td><td> 0.7560974</td><td>4.495908e-01</td></tr>\n",
       "\t<tr><td>inc1:boat        </td><td> 0.12354624</td><td>0.02791059</td><td> 4.4265000</td><td>9.577437e-06</td></tr>\n",
       "\t<tr><td>inc1:pier        </td><td>-0.11176304</td><td>0.04397946</td><td>-2.5412551</td><td>1.104553e-02</td></tr>\n",
       "</tbody>\n",
       "</table>\n"
      ],
      "text/latex": [
       "A tibble: 6 × 5\n",
       "\\begin{tabular}{lllll}\n",
       " term & estimate & std.error & statistic & p.value\\\\\n",
       " <chr> & <dbl> & <dbl> & <dbl> & <dbl>\\\\\n",
       "\\hline\n",
       "\t (Intercept):beach & -1.34129144 & 0.19451671 & -6.8955076 & 5.367262e-12\\\\\n",
       "\t (Intercept):boat  & -0.60237067 & 0.13609637 & -4.4260597 & 9.596998e-06\\\\\n",
       "\t (Intercept):pier  & -0.52714117 & 0.17778419 & -2.9650622 & 3.026218e-03\\\\\n",
       "\t inc1:beach        &  0.03163988 & 0.04184630 &  0.7560974 & 4.495908e-01\\\\\n",
       "\t inc1:boat         &  0.12354624 & 0.02791059 &  4.4265000 & 9.577437e-06\\\\\n",
       "\t inc1:pier         & -0.11176304 & 0.04397946 & -2.5412551 & 1.104553e-02\\\\\n",
       "\\end{tabular}\n"
      ],
      "text/markdown": [
       "\n",
       "A tibble: 6 × 5\n",
       "\n",
       "| term &lt;chr&gt; | estimate &lt;dbl&gt; | std.error &lt;dbl&gt; | statistic &lt;dbl&gt; | p.value &lt;dbl&gt; |\n",
       "|---|---|---|---|---|\n",
       "| (Intercept):beach | -1.34129144 | 0.19451671 | -6.8955076 | 5.367262e-12 |\n",
       "| (Intercept):boat  | -0.60237067 | 0.13609637 | -4.4260597 | 9.596998e-06 |\n",
       "| (Intercept):pier  | -0.52714117 | 0.17778419 | -2.9650622 | 3.026218e-03 |\n",
       "| inc1:beach        |  0.03163988 | 0.04184630 |  0.7560974 | 4.495908e-01 |\n",
       "| inc1:boat         |  0.12354624 | 0.02791059 |  4.4265000 | 9.577437e-06 |\n",
       "| inc1:pier         | -0.11176304 | 0.04397946 | -2.5412551 | 1.104553e-02 |\n",
       "\n"
      ],
      "text/plain": [
       "  term              estimate    std.error  statistic  p.value     \n",
       "1 (Intercept):beach -1.34129144 0.19451671 -6.8955076 5.367262e-12\n",
       "2 (Intercept):boat  -0.60237067 0.13609637 -4.4260597 9.596998e-06\n",
       "3 (Intercept):pier  -0.52714117 0.17778419 -2.9650622 3.026218e-03\n",
       "4 inc1:beach         0.03163988 0.04184630  0.7560974 4.495908e-01\n",
       "5 inc1:boat          0.12354624 0.02791059  4.4265000 9.577437e-06\n",
       "6 inc1:pier         -0.11176304 0.04397946 -2.5412551 1.104553e-02"
      ]
     },
     "metadata": {},
     "output_type": "display_data"
    }
   ],
   "source": [
    "mlogit.mnl1 <- mlogit(mode ~ 1 | inc1, data=Fish, reflevel=\"charter\")\n",
    "tidy(mlogit.mnl1)"
   ]
  },
  {
   "cell_type": "markdown",
   "id": "5ae64832-c76d-4668-81fa-d3f1048f3f4f",
   "metadata": {},
   "source": [
    "#### Multinomial logit with different base"
   ]
  },
  {
   "cell_type": "code",
   "execution_count": 8,
   "id": "8b897ee7-962d-4556-9194-12e450eb5190",
   "metadata": {},
   "outputs": [
    {
     "data": {
      "text/plain": [
       "\n",
       "Call:\n",
       "mlogit(formula = mode ~ 1 | inc1, data = Fish, reflevel = \"beach\", \n",
       "    method = \"nr\")\n",
       "\n",
       "Frequencies of alternatives:choice\n",
       "  beach    boat charter    pier \n",
       "0.11337 0.35364 0.38240 0.15059 \n",
       "\n",
       "nr method\n",
       "4 iterations, 0h:0m:0s \n",
       "g'(-H)^-1g = 8.32E-07 \n",
       "gradient close to zero \n",
       "\n",
       "Coefficients :\n",
       "                     Estimate Std. Error z-value  Pr(>|z|)    \n",
       "(Intercept):boat     0.738921   0.196731  3.7560 0.0001727 ***\n",
       "(Intercept):charter  1.341291   0.194517  6.8955 5.367e-12 ***\n",
       "(Intercept):pier     0.814150   0.228632  3.5610 0.0003695 ***\n",
       "inc1:boat            0.091906   0.040664  2.2602 0.0238116 *  \n",
       "inc1:charter        -0.031640   0.041846 -0.7561 0.4495908    \n",
       "inc1:pier           -0.143403   0.053288 -2.6911 0.0071223 ** \n",
       "---\n",
       "Signif. codes:  0 ‘***’ 0.001 ‘**’ 0.01 ‘*’ 0.05 ‘.’ 0.1 ‘ ’ 1\n",
       "\n",
       "Log-Likelihood: -1477.2\n",
       "McFadden R^2:  0.013736 \n",
       "Likelihood ratio test : chisq = 41.145 (p.value = 6.0931e-09)"
      ]
     },
     "metadata": {},
     "output_type": "display_data"
    }
   ],
   "source": [
    "mlogit.mnl2 <- mlogit(mode ~ 1 | inc1, data = Fish, reflevel=\"beach\")\n",
    "summary(mlogit.mnl2)"
   ]
  },
  {
   "cell_type": "markdown",
   "id": "9acd9124-7287-4a2d-ab50-4ab3b28c77cc",
   "metadata": {},
   "source": [
    "* **MNL**:  Coefficient interpretation is more difficult than for the CL logit model. Interpretation for the MNL model is relative to the base category. Hence a positive coefficient does not necessarily imply an increase in probability. \n",
    "* Relative to beach fishing, higher income reduce likelihood of fishing from a pier or a charter and greater likelihood of use of a private boat."
   ]
  },
  {
   "cell_type": "markdown",
   "id": "1978e351-632e-4cab-b694-dfe614cff180",
   "metadata": {},
   "source": [
    "### Mean values for the marginal effects"
   ]
  },
  {
   "cell_type": "markdown",
   "id": "0128c5c3-119f-4f62-8966-947804d03ccb",
   "metadata": {},
   "source": [
    "#### Setting mean values for variables to use for marginal effects "
   ]
  },
  {
   "cell_type": "code",
   "execution_count": 9,
   "id": "9c29f7b4-d5fc-405a-843b-d10b6e605573",
   "metadata": {},
   "outputs": [],
   "source": [
    "m <- mlogit(mode ~ price+catch |inc1, data = Fish, reflevel=\"beach\")\n",
    "z <- with(Fish, data.frame(price = tapply(price, index(m)$alt, mean), \n",
    "                             catch = tapply(catch, index(m)$alt, mean), inc1 = mean(inc1)))"
   ]
  },
  {
   "cell_type": "markdown",
   "id": "f3f34181-4d06-4a96-b601-7c896e4d1296",
   "metadata": {},
   "source": [
    "**OR**"
   ]
  },
  {
   "cell_type": "code",
   "execution_count": 10,
   "id": "17ab505a-ac77-4c31-ba20-7590334ab61b",
   "metadata": {},
   "outputs": [],
   "source": [
    "m <- mlogit(mode ~ price | inc1 | catch, data = Fish)\n",
    "z <- with(Fish, data.frame(price = tapply(price, idx(m, 2), mean),\n",
    "                           catch = tapply(catch, idx(m, 2), mean),\n",
    "                           inc1 = mean(inc1)))"
   ]
  },
  {
   "cell_type": "markdown",
   "id": "a897f4b0-aaf3-4fcc-b2dd-746546e4245e",
   "metadata": {
    "tags": []
   },
   "source": [
    "#### Multinomial logit model marginal effects"
   ]
  },
  {
   "cell_type": "code",
   "execution_count": 11,
   "id": "91cacf1d-be93-4489-aabb-0ba5dadf2742",
   "metadata": {},
   "outputs": [
    {
     "data": {
      "text/html": [
       "<style>\n",
       ".dl-inline {width: auto; margin:0; padding: 0}\n",
       ".dl-inline>dt, .dl-inline>dd {float: none; width: auto; display: inline-block}\n",
       ".dl-inline>dt::after {content: \":\\0020\"; padding-right: .5ex}\n",
       ".dl-inline>dt:not(:first-of-type) {padding-left: .5ex}\n",
       "</style><dl class=dl-inline><dt>charter</dt><dd>-0.012</dd><dt>beach</dt><dd>0</dd><dt>boat</dt><dd>0.033</dd><dt>pier</dt><dd>-0.021</dd></dl>\n"
      ],
      "text/latex": [
       "\\begin{description*}\n",
       "\\item[charter] -0.012\n",
       "\\item[beach] 0\n",
       "\\item[boat] 0.033\n",
       "\\item[pier] -0.021\n",
       "\\end{description*}\n"
      ],
      "text/markdown": [
       "charter\n",
       ":   -0.012beach\n",
       ":   0boat\n",
       ":   0.033pier\n",
       ":   -0.021\n",
       "\n"
      ],
      "text/plain": [
       "charter   beach    boat    pier \n",
       " -0.012   0.000   0.033  -0.021 "
      ]
     },
     "metadata": {},
     "output_type": "display_data"
    }
   ],
   "source": [
    "round(effects(mlogit.mnl1, covariate = \"inc1\", data = z),3)"
   ]
  },
  {
   "cell_type": "markdown",
   "id": "f953fe53-1aa4-41fa-ad18-606d9a50c3f5",
   "metadata": {},
   "source": [
    "A \\$1,000 increase in income implies changes of 0.000, -0.021, 0.033, and -0.012 in the probabilities of fishing from beach, pier, private boat, and charter boat. This indicates little change in beach fishing, movement **out of** pier and charter boat fishing, and movement **to** private boat fishing. "
   ]
  },
  {
   "cell_type": "markdown",
   "id": "7585ba63-514a-4f99-a85f-1daae235d512",
   "metadata": {},
   "source": [
    "MNL model has much lower log-likelihood and pseudo-R2 than does the Mixed model."
   ]
  },
  {
   "cell_type": "markdown",
   "id": "21e6e47b-b8f6-42c2-aaab-9e4bc2b1ec11",
   "metadata": {},
   "source": [
    "#### Odds ratio"
   ]
  },
  {
   "cell_type": "code",
   "execution_count": 12,
   "id": "b29596ec-4a83-4638-8920-5d72044d06cb",
   "metadata": {},
   "outputs": [
    {
     "data": {
      "text/html": [
       "<table class=\"dataframe\">\n",
       "<caption>A tibble: 3 × 1</caption>\n",
       "<thead>\n",
       "\t<tr><th scope=col>exp(coef.mnl[4:6])</th></tr>\n",
       "\t<tr><th scope=col>&lt;dbl&gt;</th></tr>\n",
       "</thead>\n",
       "<tbody>\n",
       "\t<tr><td>1.0962622</td></tr>\n",
       "\t<tr><td>0.9688554</td></tr>\n",
       "\t<tr><td>0.8664049</td></tr>\n",
       "</tbody>\n",
       "</table>\n"
      ],
      "text/latex": [
       "A tibble: 3 × 1\n",
       "\\begin{tabular}{l}\n",
       " exp(coef.mnl{[}4:6{]})\\\\\n",
       " <dbl>\\\\\n",
       "\\hline\n",
       "\t 1.0962622\\\\\n",
       "\t 0.9688554\\\\\n",
       "\t 0.8664049\\\\\n",
       "\\end{tabular}\n"
      ],
      "text/markdown": [
       "\n",
       "A tibble: 3 × 1\n",
       "\n",
       "| exp(coef.mnl[4:6]) &lt;dbl&gt; |\n",
       "|---|\n",
       "| 1.0962622 |\n",
       "| 0.9688554 |\n",
       "| 0.8664049 |\n",
       "\n"
      ],
      "text/plain": [
       "  exp(coef.mnl[4:6])\n",
       "1 1.0962622         \n",
       "2 0.9688554         \n",
       "3 0.8664049         "
      ]
     },
     "metadata": {},
     "output_type": "display_data"
    }
   ],
   "source": [
    "coef.mnl <- coef(mlogit.mnl2)\n",
    "tibble(exp(coef.mnl[4:6]))"
   ]
  },
  {
   "cell_type": "markdown",
   "id": "b2d155d2-c9f7-4395-886b-3250e26b7c75",
   "metadata": {},
   "source": [
    "## Conditional Logit"
   ]
  },
  {
   "cell_type": "code",
   "execution_count": 13,
   "id": "420a1630-45cc-4919-9aa0-6a7b85e24ce1",
   "metadata": {},
   "outputs": [
    {
     "data": {
      "text/plain": [
       "\n",
       "Call:\n",
       "mlogit(formula = mode ~ price + catch | 0, data = Fish, reflevel = \"beach\", \n",
       "    method = \"nr\")\n",
       "\n",
       "Frequencies of alternatives:choice\n",
       "  beach    boat charter    pier \n",
       "0.11337 0.35364 0.38240 0.15059 \n",
       "\n",
       "nr method\n",
       "6 iterations, 0h:0m:0s \n",
       "g'(-H)^-1g = 0.000179 \n",
       "successive function values within tolerance limits \n",
       "\n",
       "Coefficients :\n",
       "        Estimate Std. Error z-value  Pr(>|z|)    \n",
       "price -0.0204765  0.0012231 -16.742 < 2.2e-16 ***\n",
       "catch  0.9530982  0.0894134  10.659 < 2.2e-16 ***\n",
       "---\n",
       "Signif. codes:  0 ‘***’ 0.001 ‘**’ 0.01 ‘*’ 0.05 ‘.’ 0.1 ‘ ’ 1\n",
       "\n",
       "Log-Likelihood: -1312"
      ]
     },
     "metadata": {},
     "output_type": "display_data"
    }
   ],
   "source": [
    "clogit.cl1 <- mlogit(mode ~ price+catch | 0,reflevel=\"beach\", data = Fish)\n",
    "summary(clogit.cl1)"
   ]
  },
  {
   "cell_type": "markdown",
   "id": "d2eacde9-a282-4ad9-8faf-fe4a10199b61",
   "metadata": {},
   "source": [
    "The CL model, the sign of the coefficients are directly interpretable. Hence $\\beta_P<0$ means that an increase in price of one of the alternative decreases the probability of choosing that alternative, and increases the probability of choosing the other alternatives.   "
   ]
  },
  {
   "cell_type": "markdown",
   "id": "f5457c93-75d4-4939-9a18-2bf333e25b40",
   "metadata": {},
   "source": [
    "#### Conditional logit model marginal effects\n",
    "Average marginal response of the probability of choosing each alternative when a regressor changes for one of the alternatives and is unchanged for the other alternatives."
   ]
  },
  {
   "cell_type": "markdown",
   "id": "6d632c07-5f15-459c-980f-8f35e165b7b6",
   "metadata": {},
   "source": [
    "* The marginal effect when *Price* changes by \\$100"
   ]
  },
  {
   "cell_type": "code",
   "execution_count": 14,
   "id": "6d28d501-a5e1-4758-a03e-ad35906f9171",
   "metadata": {},
   "outputs": [
    {
     "data": {
      "text/html": [
       "<table class=\"dataframe\">\n",
       "<caption>A matrix: 4 × 4 of type dbl</caption>\n",
       "<thead>\n",
       "\t<tr><th></th><th scope=col>beach</th><th scope=col>boat</th><th scope=col>charter</th><th scope=col>pier</th></tr>\n",
       "</thead>\n",
       "<tbody>\n",
       "\t<tr><th scope=row>beach</th><td>-0.26407348</td><td> 0.1188335</td><td> 0.10129703</td><td> 0.04394299</td></tr>\n",
       "\t<tr><th scope=row>boat</th><td> 0.11883347</td><td>-0.4831872</td><td> 0.25411697</td><td> 0.11023680</td></tr>\n",
       "\t<tr><th scope=row>charter</th><td> 0.10129703</td><td> 0.2541170</td><td>-0.44938298</td><td> 0.09396898</td></tr>\n",
       "\t<tr><th scope=row>pier</th><td> 0.04394299</td><td> 0.1102368</td><td> 0.09396898</td><td>-0.24814876</td></tr>\n",
       "</tbody>\n",
       "</table>\n"
      ],
      "text/latex": [
       "A matrix: 4 × 4 of type dbl\n",
       "\\begin{tabular}{r|llll}\n",
       "  & beach & boat & charter & pier\\\\\n",
       "\\hline\n",
       "\tbeach & -0.26407348 &  0.1188335 &  0.10129703 &  0.04394299\\\\\n",
       "\tboat &  0.11883347 & -0.4831872 &  0.25411697 &  0.11023680\\\\\n",
       "\tcharter &  0.10129703 &  0.2541170 & -0.44938298 &  0.09396898\\\\\n",
       "\tpier &  0.04394299 &  0.1102368 &  0.09396898 & -0.24814876\\\\\n",
       "\\end{tabular}\n"
      ],
      "text/markdown": [
       "\n",
       "A matrix: 4 × 4 of type dbl\n",
       "\n",
       "| <!--/--> | beach | boat | charter | pier |\n",
       "|---|---|---|---|---|\n",
       "| beach | -0.26407348 |  0.1188335 |  0.10129703 |  0.04394299 |\n",
       "| boat |  0.11883347 | -0.4831872 |  0.25411697 |  0.11023680 |\n",
       "| charter |  0.10129703 |  0.2541170 | -0.44938298 |  0.09396898 |\n",
       "| pier |  0.04394299 |  0.1102368 |  0.09396898 | -0.24814876 |\n",
       "\n"
      ],
      "text/plain": [
       "        beach       boat       charter     pier       \n",
       "beach   -0.26407348  0.1188335  0.10129703  0.04394299\n",
       "boat     0.11883347 -0.4831872  0.25411697  0.11023680\n",
       "charter  0.10129703  0.2541170 -0.44938298  0.09396898\n",
       "pier     0.04394299  0.1102368  0.09396898 -0.24814876"
      ]
     },
     "metadata": {},
     "output_type": "display_data"
    }
   ],
   "source": [
    "effects(clogit.cl1, covariate = \"price\", data = z)*100"
   ]
  },
  {
   "cell_type": "markdown",
   "id": "9125c41f-fcf1-40d1-964b-4c39047378ff",
   "metadata": {},
   "source": [
    "* The marginal effect when *Catch rate* changes by one unit"
   ]
  },
  {
   "cell_type": "code",
   "execution_count": 15,
   "id": "05e19f2a-2577-482b-99c8-aedc1430f58f",
   "metadata": {},
   "outputs": [
    {
     "data": {
      "text/html": [
       "<table class=\"dataframe\">\n",
       "<caption>A matrix: 4 × 4 of type dbl</caption>\n",
       "<thead>\n",
       "\t<tr><th></th><th scope=col>beach</th><th scope=col>boat</th><th scope=col>charter</th><th scope=col>pier</th></tr>\n",
       "</thead>\n",
       "<tbody>\n",
       "\t<tr><th scope=row>beach</th><td> 0.12291580</td><td>-0.05531229</td><td>-0.04714977</td><td>-0.02045373</td></tr>\n",
       "\t<tr><th scope=row>boat</th><td>-0.05531217</td><td> 0.22490411</td><td>-0.11828117</td><td>-0.05131077</td></tr>\n",
       "\t<tr><th scope=row>charter</th><td>-0.04714969</td><td>-0.11828123</td><td> 0.20916971</td><td>-0.04373878</td></tr>\n",
       "\t<tr><th scope=row>pier</th><td>-0.02045373</td><td>-0.05131089</td><td>-0.04373886</td><td> 0.11550348</td></tr>\n",
       "</tbody>\n",
       "</table>\n"
      ],
      "text/latex": [
       "A matrix: 4 × 4 of type dbl\n",
       "\\begin{tabular}{r|llll}\n",
       "  & beach & boat & charter & pier\\\\\n",
       "\\hline\n",
       "\tbeach &  0.12291580 & -0.05531229 & -0.04714977 & -0.02045373\\\\\n",
       "\tboat & -0.05531217 &  0.22490411 & -0.11828117 & -0.05131077\\\\\n",
       "\tcharter & -0.04714969 & -0.11828123 &  0.20916971 & -0.04373878\\\\\n",
       "\tpier & -0.02045373 & -0.05131089 & -0.04373886 &  0.11550348\\\\\n",
       "\\end{tabular}\n"
      ],
      "text/markdown": [
       "\n",
       "A matrix: 4 × 4 of type dbl\n",
       "\n",
       "| <!--/--> | beach | boat | charter | pier |\n",
       "|---|---|---|---|---|\n",
       "| beach |  0.12291580 | -0.05531229 | -0.04714977 | -0.02045373 |\n",
       "| boat | -0.05531217 |  0.22490411 | -0.11828117 | -0.05131077 |\n",
       "| charter | -0.04714969 | -0.11828123 |  0.20916971 | -0.04373878 |\n",
       "| pier | -0.02045373 | -0.05131089 | -0.04373886 |  0.11550348 |\n",
       "\n"
      ],
      "text/plain": [
       "        beach       boat        charter     pier       \n",
       "beach    0.12291580 -0.05531229 -0.04714977 -0.02045373\n",
       "boat    -0.05531217  0.22490411 -0.11828117 -0.05131077\n",
       "charter -0.04714969 -0.11828123  0.20916971 -0.04373878\n",
       "pier    -0.02045373 -0.05131089 -0.04373886  0.11550348"
      ]
     },
     "metadata": {},
     "output_type": "display_data"
    }
   ],
   "source": [
    "effects(clogit.cl1, covariate = \"catch\", data = z)"
   ]
  },
  {
   "cell_type": "markdown",
   "id": "5e222bfb-1ebe-4744-9fa1-bd7c5a8f27b6",
   "metadata": {},
   "source": [
    "The results in the above Tables are consistent with the view that the greatest substitution is between pier and beach fishing and between private boat and charter boat fishing. And similarly for charter versus private boat."
   ]
  },
  {
   "cell_type": "markdown",
   "id": "2a916552-fcac-464d-826d-f4b42f39a7c7",
   "metadata": {},
   "source": [
    "## Mixed Logit"
   ]
  },
  {
   "cell_type": "code",
   "execution_count": 16,
   "id": "55d5ff62-ca61-4b0b-97b2-b66e4e74d078",
   "metadata": {},
   "outputs": [
    {
     "data": {
      "text/plain": [
       "\n",
       "Call:\n",
       "mlogit(formula = mode ~ price + catch | inc1, data = Fish, reflevel = \"beach\", \n",
       "    method = \"nr\")\n",
       "\n",
       "Frequencies of alternatives:choice\n",
       "  beach    boat charter    pier \n",
       "0.11337 0.35364 0.38240 0.15059 \n",
       "\n",
       "nr method\n",
       "7 iterations, 0h:0m:0s \n",
       "g'(-H)^-1g = 1.37E-05 \n",
       "successive function values within tolerance limits \n",
       "\n",
       "Coefficients :\n",
       "                      Estimate Std. Error  z-value  Pr(>|z|)    \n",
       "(Intercept):boat     0.5272788  0.2227927   2.3667 0.0179485 *  \n",
       "(Intercept):charter  1.6943657  0.2240506   7.5624 3.952e-14 ***\n",
       "(Intercept):pier     0.7779594  0.2204939   3.5283 0.0004183 ***\n",
       "price               -0.0251166  0.0017317 -14.5042 < 2.2e-16 ***\n",
       "catch                0.3577820  0.1097733   3.2593 0.0011170 ** \n",
       "inc1:boat            0.0894398  0.0500671   1.7864 0.0740345 .  \n",
       "inc1:charter        -0.0332917  0.0503409  -0.6613 0.5084031    \n",
       "inc1:pier           -0.1275772  0.0506395  -2.5193 0.0117582 *  \n",
       "---\n",
       "Signif. codes:  0 ‘***’ 0.001 ‘**’ 0.01 ‘*’ 0.05 ‘.’ 0.1 ‘ ’ 1\n",
       "\n",
       "Log-Likelihood: -1215.1\n",
       "McFadden R^2:  0.18868 \n",
       "Likelihood ratio test : chisq = 565.17 (p.value = < 2.22e-16)"
      ]
     },
     "metadata": {},
     "output_type": "display_data"
    }
   ],
   "source": [
    "clogit.mx1 <- mlogit(mode ~ price+catch |inc1, data = Fish,reflevel=\"beach\")\n",
    "summary(clogit.mx1)"
   ]
  },
  {
   "cell_type": "markdown",
   "id": "9e32a664-1226-4dd2-9eae-43137aca1bec",
   "metadata": {},
   "source": [
    "* Mixed is richer than CL, but with CL one can predict the probability of selection of any additional alternative added to the choice set. Because the parameters of CL do not vary across alternatives.\n",
    "* Mixed: Compared to CL and MNL, the coefficients do not change much, except for the *catch rate* coefficient due to inclusion of the alternative-specific dummies, rather than inclusion of *income*. \n",
    "* The mixed model is strongly preferred to the other models on the basis of much higher log-likelihood value or formal statistical tests."
   ]
  }
 ],
 "metadata": {
  "kernelspec": {
   "display_name": "R",
   "language": "R",
   "name": "ir"
  },
  "language_info": {
   "codemirror_mode": "r",
   "file_extension": ".r",
   "mimetype": "text/x-r-source",
   "name": "R",
   "pygments_lexer": "r",
   "version": "4.3.1"
  }
 },
 "nbformat": 4,
 "nbformat_minor": 5
}
