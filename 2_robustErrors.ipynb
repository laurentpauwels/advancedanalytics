{
 "cells": [
  {
   "cell_type": "markdown",
   "id": "473568c5-ada8-4100-a80f-c8eeb037f4fa",
   "metadata": {},
   "source": [
    "# Covariance Matrix Estimation Under Heteroskedasticity"
   ]
  },
  {
   "cell_type": "markdown",
   "id": "b88291c3-d105-4b29-a685-e16adcb289e9",
   "metadata": {},
   "source": [
    "Reference: Bruce Hansen, \"Econometrics\", 2021. "
   ]
  },
  {
   "cell_type": "markdown",
   "id": "8ea09eeb-066c-40e9-a58f-c9aacc22fc51",
   "metadata": {},
   "source": [
    "### Regression with formula"
   ]
  },
  {
   "cell_type": "code",
   "execution_count": 1,
   "id": "585d1847-8ad5-4141-b8dd-6d52c8c70e5b",
   "metadata": {},
   "outputs": [
    {
     "name": "stdout",
     "output_type": "stream",
     "text": [
      "                  [,1]\n",
      "            0.57535630\n",
      "educ        0.14331647\n",
      "experience  0.03557892\n",
      "exp2       -0.07137808\n"
     ]
    }
   ],
   "source": [
    "dat <- read.table(\"./data/cps09mar.txt\")\n",
    "experience <- dat[,1]-dat[,4]-6\n",
    "mbf <- (dat[,11]==2)&(dat[,12]<=2)&(dat[,2]==1)&(experience==12) \n",
    "sam <- (dat[,11]==4)&(dat[,12]==7)&(dat[,2]==0)\n",
    "dat1 <- dat[mbf,]\n",
    "dat2 <- dat[sam,]\n",
    "y <- as.matrix(log(dat2[,5]/(dat2[,6]*dat2[,7])))\n",
    "experience <- dat2[,1]-dat2[,4]-6\n",
    "exp2 <- (experience^2)/100\n",
    "const <-matrix(1,nrow(dat2),1) #Intercept\n",
    "educ <-dat2[,4] #Education\n",
    "x <- cbind(const,educ,experience,exp2) \n",
    "xx <- t(x)%*%x\n",
    "xy <- t(x)%*%y\n",
    "beta <- solve(xx,xy)\n",
    "print(beta)"
   ]
  },
  {
   "cell_type": "markdown",
   "id": "d0fb7496-35f0-439d-9c14-abb439968749",
   "metadata": {},
   "source": [
    "### Let's check with R's `lm()` function"
   ]
  },
  {
   "cell_type": "code",
   "execution_count": 2,
   "id": "430e9bf5-fc06-41ba-8c1d-350b101e766f",
   "metadata": {},
   "outputs": [
    {
     "data": {
      "text/plain": [
       "\n",
       "Call:\n",
       "lm(formula = y ~ x[, 2:4])\n",
       "\n",
       "Residuals:\n",
       "     Min       1Q   Median       3Q      Max \n",
       "-1.80706 -0.29973  0.03816  0.35345  2.73619 \n",
       "\n",
       "Coefficients:\n",
       "                   Estimate Std. Error t value Pr(>|t|)    \n",
       "(Intercept)         0.57536    0.18683   3.080  0.00229 ** \n",
       "x[, 2:4]educ        0.14332    0.01163  12.322  < 2e-16 ***\n",
       "x[, 2:4]experience  0.03558    0.01086   3.277  0.00119 ** \n",
       "x[, 2:4]exp2       -0.07138    0.02957  -2.414  0.01647 *  \n",
       "---\n",
       "Signif. codes:  0 ‘***’ 0.001 ‘**’ 0.01 ‘*’ 0.05 ‘.’ 0.1 ‘ ’ 1\n",
       "\n",
       "Residual standard error: 0.5608 on 264 degrees of freedom\n",
       "Multiple R-squared:  0.3876,\tAdjusted R-squared:  0.3806 \n",
       "F-statistic: 55.69 on 3 and 264 DF,  p-value: < 2.2e-16\n"
      ]
     },
     "metadata": {},
     "output_type": "display_data"
    }
   ],
   "source": [
    "olsreg1 <- lm(y~x[,2:4]) #Note that I am removing the constant term, first column\n",
    "summary(olsreg1)"
   ]
  },
  {
   "cell_type": "markdown",
   "id": "f90ba884-cd4d-4e9a-9f1a-855e768704ad",
   "metadata": {},
   "source": [
    "### Parameters"
   ]
  },
  {
   "cell_type": "code",
   "execution_count": 3,
   "id": "91fe3207-f6e6-4fb0-83be-b015ddd652ed",
   "metadata": {},
   "outputs": [],
   "source": [
    "n <- nrow(y)\n",
    "k <- ncol(x)"
   ]
  },
  {
   "cell_type": "markdown",
   "id": "a3328720-6ac1-4c64-a2aa-a8aeac4bc83c",
   "metadata": {},
   "source": [
    "### OLS errors, variance and other useful matrices"
   ]
  },
  {
   "cell_type": "code",
   "execution_count": 4,
   "id": "514b33a4-28e2-43e4-acb3-ed29f837b56c",
   "metadata": {},
   "outputs": [
    {
     "name": "stdout",
     "output_type": "stream",
     "text": [
      "[1] 0.3144554\n",
      "                                 educ    experience          exp2\n",
      "            0.111002721 -6.345889e-03 -1.825163e-03  0.0032141380\n",
      "educ       -0.006345889  4.301833e-04 -2.013356e-05  0.0001076635\n",
      "experience -0.001825163 -2.013356e-05  3.748921e-04 -0.0009682789\n",
      "exp2        0.003214138  1.076635e-04 -9.682789e-04  0.0027809544\n"
     ]
    }
   ],
   "source": [
    "e <- y-x%*%beta\n",
    "xx <- t(x)%*%x\n",
    "xxinv <- solve(t(x)%*%x)\n",
    "sig2 <- as.vector((t(e) %*% e)/(n-k))\n",
    "print(sig2)\n",
    "print(xxinv)\n"
   ]
  },
  {
   "cell_type": "markdown",
   "id": "6e9029e2-9bbb-485c-8ff0-d473faeff3db",
   "metadata": {},
   "source": [
    "The general form for the covariance matrix is\n",
    "$$\n",
    "Var(\\hat{\\beta}) = (\\mathbf{X'X})^{-1} (\\mathbf{X' \\Omega X}) (\\mathbf{X'X})^{-1}\n",
    "$$\n",
    "where $ \\mathbf{\\Omega} $ is unknown. "
   ]
  },
  {
   "cell_type": "markdown",
   "id": "8e63ae1b-422a-48fc-a582-0378abb72bfa",
   "metadata": {},
   "source": [
    "### Homoskedastic formula  "
   ]
  },
  {
   "cell_type": "markdown",
   "id": "40c20a38-0122-47c6-9ea8-d91896e341b7",
   "metadata": {},
   "source": [
    "$$\n",
    "Var(\\mathbf{\\hat{\\beta}}) = \\sigma^2 (\\mathbf{X'X})^{-1}\n",
    "$$\n",
    "since\n",
    "$$\n",
    "E[\\mathbf{e \\: e' | X}] = \\sigma^2 \\mathbf{I}\n",
    "$$"
   ]
  },
  {
   "cell_type": "code",
   "execution_count": 5,
   "id": "d98d4895-c41a-48d8-a6f5-04d031a9c065",
   "metadata": {},
   "outputs": [
    {
     "name": "stdout",
     "output_type": "stream",
     "text": [
      "                                s          \n",
      "            0.57535630 0.18682987  3.079573\n",
      "educ        0.14331647 0.01163071 12.322244\n",
      "experience  0.03557892 0.01085757  3.276876\n",
      "exp2       -0.07137808 0.02957171 -2.413728\n"
     ]
    }
   ],
   "source": [
    "v <- xxinv*sig2\n",
    "s <- sqrt(diag(v))\n",
    "t <- beta/s\n",
    "olsh <- cbind(beta,s,t)\n",
    "print(olsh)"
   ]
  },
  {
   "cell_type": "markdown",
   "id": "8f50440b-7c73-4f23-b2a0-8be3b228a977",
   "metadata": {},
   "source": [
    "## Heteroskedasticity-consistent Covariance matrix estimators"
   ]
  },
  {
   "cell_type": "markdown",
   "id": "668e3a72-c225-4945-95da-64a8ee62f6da",
   "metadata": {},
   "source": [
    "Ideally we would estimate the general form of the covariance matrix like this:\n",
    "$$\n",
    "Var(\\hat{\\beta})^{\\textrm{ideal}} = (\\mathbf{X'X})^{-1} \\left( \\sum_{i=1}^{n} X_i X_i' e_i^2  \\right) (\\mathbf{X'X})^{-1}\n",
    "$$\n",
    "Since the errors $e^2$ are unobserved, the ideal V above is not a feasible estimator. However, we can replace the errors with the least squares residuals $\\hat{e}_i$. "
   ]
  },
  {
   "cell_type": "markdown",
   "id": "c27185fc-f49f-4d61-9a67-a2a9a759d424",
   "metadata": {},
   "source": [
    "### HC0"
   ]
  },
  {
   "cell_type": "markdown",
   "id": "f816e7ee-0a00-4612-987c-31b58d727a96",
   "metadata": {},
   "source": [
    "Substituting $\\hat{e}_i$ in the \"ideal\" formula above, we get\n",
    "$$\n",
    "Var(\\hat{\\beta})^{\\textrm{HC0}} = (\\mathbf{X'X})^{-1} \\left( \\sum_{i=1}^{n} X_i X_i' \\hat{e}_i^2  \\right) (\\mathbf{X'X})^{-1}\n",
    "$$\n",
    "The label *HC* refers to \"heteroskedasticity-consistent.\" The label *HC0* refers to this being the baseline\n",
    "heteroskedasticity-consistent covariance matrix estimator."
   ]
  },
  {
   "cell_type": "code",
   "execution_count": 6,
   "id": "d1169703-b387-4a25-8990-3a3eb0211351",
   "metadata": {},
   "outputs": [
    {
     "name": "stdout",
     "output_type": "stream",
     "text": [
      "                               s0          \n",
      "            0.57535630 0.19362680  2.971470\n",
      "educ        0.14331647 0.01152244 12.438031\n",
      "experience  0.03557892 0.01121874  3.171382\n",
      "exp2       -0.07137808 0.02918124 -2.446026\n"
     ]
    }
   ],
   "source": [
    "u0 <- x*(e%*%matrix(1,1,k)) # x*e\n",
    "v0 <- xxinv %*% (t(u0)%*%u0) %*% xxinv\n",
    "s0 <- sqrt(diag(v0)) \n",
    "t0 <- beta/s0\n",
    "ols0 <- cbind(beta,s0,t0)\n",
    "print(ols0)"
   ]
  },
  {
   "cell_type": "markdown",
   "id": "565d8ead-2dd4-4790-b6d4-969eb0bf1083",
   "metadata": {},
   "source": [
    "The necessary libraries to use Robust Standard errors in `R` are `sandwich` and `lmtest`. Let's try and run these to see if we get the same as our \"by-hand\" approach."
   ]
  },
  {
   "cell_type": "code",
   "execution_count": 9,
   "id": "6fdbe9c2-63e4-4061-93a3-879dd300c81c",
   "metadata": {},
   "outputs": [],
   "source": [
    "library(zoo)\n",
    "library(sandwich)\n",
    "library(lmtest)"
   ]
  },
  {
   "cell_type": "code",
   "execution_count": 10,
   "id": "65c05fa6-c0fa-4526-b6ce-43b714a72546",
   "metadata": {},
   "outputs": [
    {
     "data": {
      "text/plain": [
       "\n",
       "t test of coefficients:\n",
       "\n",
       "             Estimate Std. Error t value  Pr(>|t|)    \n",
       "(Intercept)  0.575356   0.193627  2.9715  0.003237 ** \n",
       "xeduc        0.143316   0.011522 12.4380 < 2.2e-16 ***\n",
       "xexperience  0.035579   0.011219  3.1714  0.001696 ** \n",
       "xexp2       -0.071378   0.029181 -2.4460  0.015097 *  \n",
       "---\n",
       "Signif. codes:  0 ‘***’ 0.001 ‘**’ 0.01 ‘*’ 0.05 ‘.’ 0.1 ‘ ’ 1\n"
      ]
     },
     "metadata": {},
     "output_type": "display_data"
    }
   ],
   "source": [
    "fm0 <- lm(y ~ x)\n",
    "coeftest(fm0, vcov = vcovHC(fm0, type = \"HC0\"))"
   ]
  },
  {
   "cell_type": "markdown",
   "id": "7d13faba-0d84-4056-914c-1e7b6bda7ec9",
   "metadata": {},
   "source": [
    "### HC1"
   ]
  },
  {
   "cell_type": "markdown",
   "id": "2922f965-7249-414f-b2bd-6c938b08358b",
   "metadata": {},
   "source": [
    "Since $\\hat{e}_i$ is biased towards zero, we can estimate the variance $\\sigma^2$, we can use $s^2$ to \n",
    "scale the moment estimator $\\hat{\\sigma}^2$ by $n/(n−k)$. \n",
    "$$\n",
    "Var(\\hat{\\beta})^{\\textrm{HC1}} = \\left( \\frac{n}{n-k} \\right) (\\mathbf{X'X})^{-1} \\left( \\sum_{i=1}^{n} X_i X_i' \\hat{e}_i^2  \\right) (\\mathbf{X'X})^{-1}\n",
    "$$"
   ]
  },
  {
   "cell_type": "code",
   "execution_count": 11,
   "id": "f11299ad-aa0e-490c-98c8-5bef4cff0aa8",
   "metadata": {},
   "outputs": [
    {
     "name": "stdout",
     "output_type": "stream",
     "text": [
      "                               s1          \n",
      "            0.57535630 0.19508816  2.949212\n",
      "educ        0.14331647 0.01160940 12.344861\n",
      "experience  0.03557892 0.01130341  3.147626\n",
      "exp2       -0.07137808 0.02940148 -2.427704\n"
     ]
    }
   ],
   "source": [
    "a <- n/(n-k)\n",
    "u1 <- u0\n",
    "v1 <- a * xxinv %*% (t(u1)%*%u1) %*% xxinv \n",
    "s1 <- sqrt(diag(v1))\n",
    "t1 <- beta/s1\n",
    "ols1 <- cbind(beta,s1,t1)\n",
    "print(ols1)"
   ]
  },
  {
   "cell_type": "code",
   "execution_count": 12,
   "id": "5fbab163-2256-458a-b85c-73a7ce01cdb4",
   "metadata": {},
   "outputs": [
    {
     "data": {
      "text/plain": [
       "\n",
       "t test of coefficients:\n",
       "\n",
       "             Estimate Std. Error t value  Pr(>|t|)    \n",
       "(Intercept)  0.575356   0.195088  2.9492  0.003471 ** \n",
       "xeduc        0.143316   0.011609 12.3449 < 2.2e-16 ***\n",
       "xexperience  0.035579   0.011303  3.1476  0.001835 ** \n",
       "xexp2       -0.071378   0.029401 -2.4277  0.015864 *  \n",
       "---\n",
       "Signif. codes:  0 ‘***’ 0.001 ‘**’ 0.01 ‘*’ 0.05 ‘.’ 0.1 ‘ ’ 1\n"
      ]
     },
     "metadata": {},
     "output_type": "display_data"
    }
   ],
   "source": [
    "fm1 <- lm(y ~ x)\n",
    "coeftest(fm1, vcov = vcovHC(fm1, type = \"HC1\"))"
   ]
  },
  {
   "cell_type": "markdown",
   "id": "03ff598e-7b32-47d6-81af-4b9c5ddb37a4",
   "metadata": {},
   "source": [
    "Though the scaling by $n/(n-k)$ is *ad hoc*, *HC1* is often recommended over the unscaled *HC0*"
   ]
  },
  {
   "cell_type": "markdown",
   "id": "f9d790fb-0f31-497e-927a-6f31cd5bb4b7",
   "metadata": {},
   "source": [
    "### HC2"
   ]
  },
  {
   "cell_type": "markdown",
   "id": "9a074ce5-5e11-4e53-afa9-0a08f8d861d0",
   "metadata": {},
   "source": [
    "Alternatively, we can use standardised residuals, say $\\tilde{e}_i$ or the prediction error, which implies\n",
    "$$\n",
    "Var(\\hat{\\beta})^{\\textrm{HC2}} = (\\mathbf{X'X})^{-1} \\left( \\sum_{i=1}^{n} X_i X_i' \\tilde{e}_i^2  \\right) (\\mathbf{X'X})^{-1}\n",
    "$$\n",
    "or\n",
    "$$\n",
    "Var(\\hat{\\beta})^{\\textrm{HC2}} = (\\mathbf{X'X})^{-1} \\left( \\sum_{i=1}^{n} (1-h_{ii})^{-1} X_i X_i' \\hat{e}_i^2  \\right) (\\mathbf{X'X})^{-1}\n",
    "$$\n",
    "where $h_{ii}$ is element $(i,i)$ of the leverage measure. The leverage values for $\\mathbf{X}$ are the diagonal elements of the projection matrix $\\mathbf{P_X = X (X'X)^{-1} X'}$:\n",
    "$$\n",
    "h_{ii} = X_i' (\\mathbf{X'X})^{-1} X_i\n",
    "$$\n",
    "The leverage value $h_{ii}$ is a normalized length of the observed regressor vector $X_i$. They appear fre- quently in leave-one-out re-gression, influential observations, robust covariance matrix estimation, and cross-validation."
   ]
  },
  {
   "cell_type": "code",
   "execution_count": 13,
   "id": "0318bb61-c9b3-42bd-a57f-99e976a57b39",
   "metadata": {},
   "outputs": [
    {
     "name": "stdout",
     "output_type": "stream",
     "text": [
      "                               s2          \n",
      "            0.57535630 0.19702185  2.920266\n",
      "educ        0.14331647 0.01169374 12.255831\n",
      "experience  0.03557892 0.01178237  3.019675\n",
      "exp2       -0.07137808 0.03150154 -2.265860\n"
     ]
    }
   ],
   "source": [
    "leverage <- rowSums(x*(x%*%xxinv))\n",
    "u2 <- x*((e/sqrt(1-leverage))%*%matrix(1,1,k)) \n",
    "v2 <- xxinv %*% (t(u2)%*%u2) %*% xxinv\n",
    "s2 <- sqrt(diag(v2)) \n",
    "t2 <- beta/s2\n",
    "ols2 <- cbind(beta,s2,t2)\n",
    "print(ols2)"
   ]
  },
  {
   "cell_type": "code",
   "execution_count": 14,
   "id": "ad3b54b2-d250-4600-9fb7-adf79374f939",
   "metadata": {},
   "outputs": [
    {
     "data": {
      "text/plain": [
       "\n",
       "t test of coefficients:\n",
       "\n",
       "             Estimate Std. Error t value  Pr(>|t|)    \n",
       "(Intercept)  0.575356   0.197022  2.9203  0.003799 ** \n",
       "xeduc        0.143316   0.011694 12.2558 < 2.2e-16 ***\n",
       "xexperience  0.035579   0.011782  3.0197  0.002778 ** \n",
       "xexp2       -0.071378   0.031502 -2.2659  0.024270 *  \n",
       "---\n",
       "Signif. codes:  0 ‘***’ 0.001 ‘**’ 0.01 ‘*’ 0.05 ‘.’ 0.1 ‘ ’ 1\n"
      ]
     },
     "metadata": {},
     "output_type": "display_data"
    }
   ],
   "source": [
    "fm2 <- lm(y ~ x)\n",
    "coeftest(fm2, vcov = vcovHC(fm1, type = \"HC2\"))"
   ]
  },
  {
   "cell_type": "markdown",
   "id": "47b0af21-e393-4a42-b871-1b45039c9380",
   "metadata": {},
   "source": [
    "### HC3"
   ]
  },
  {
   "cell_type": "markdown",
   "id": "bee6b495-ed7f-441c-afea-93ae14b4c057",
   "metadata": {},
   "source": [
    "$$\n",
    "Var(\\hat{\\beta})^{\\textrm{HC3}} = (\\mathbf{X'X})^{-1} \\left( \\sum_{i=1}^{n} (1-h_{ii})^{-2} X_i X_i' \\hat{e}_i^2  \\right) (\\mathbf{X'X})^{-1}\n",
    "$$"
   ]
  },
  {
   "cell_type": "code",
   "execution_count": 15,
   "id": "9ca1ec12-0545-42a8-a4cd-c840536c43c0",
   "metadata": {},
   "outputs": [
    {
     "name": "stdout",
     "output_type": "stream",
     "text": [
      "                               s3          \n",
      "            0.57535630 0.20102036  2.862179\n",
      "educ        0.14331647 0.01187627 12.067461\n",
      "experience  0.03557892 0.01254629  2.835812\n",
      "exp2       -0.07137808 0.03459159 -2.063452\n"
     ]
    }
   ],
   "source": [
    "u3 <- x*((e/(1-leverage))%*%matrix(1,1,k))\n",
    "v3 <- xxinv %*% (t(u3)%*%u3) %*% xxinv\n",
    "s3 <- sqrt(diag(v3)) \n",
    "t3 <- beta/s3\n",
    "ols3 <- cbind(beta,s3,t3)\n",
    "print(ols3)"
   ]
  },
  {
   "cell_type": "code",
   "execution_count": 16,
   "id": "390c0cd0-2bff-4a52-9ed5-6ad33a40a9b9",
   "metadata": {},
   "outputs": [
    {
     "data": {
      "text/plain": [
       "\n",
       "t test of coefficients:\n",
       "\n",
       "             Estimate Std. Error t value  Pr(>|t|)    \n",
       "(Intercept)  0.575356   0.195088  2.9492  0.003471 ** \n",
       "xeduc        0.143316   0.011609 12.3449 < 2.2e-16 ***\n",
       "xexperience  0.035579   0.011303  3.1476  0.001835 ** \n",
       "xexp2       -0.071378   0.029401 -2.4277  0.015864 *  \n",
       "---\n",
       "Signif. codes:  0 ‘***’ 0.001 ‘**’ 0.01 ‘*’ 0.05 ‘.’ 0.1 ‘ ’ 1\n"
      ]
     },
     "metadata": {},
     "output_type": "display_data"
    }
   ],
   "source": [
    "fm3 <- lm(y ~ x)\n",
    "coeftest(fm3, vcov = vcovHC(fm3, type = \"HC1\"))"
   ]
  },
  {
   "cell_type": "markdown",
   "id": "7e2ecf68-7349-490b-83db-04587b3c6894",
   "metadata": {},
   "source": [
    "### What to use in practice?"
   ]
  },
  {
   "cell_type": "markdown",
   "id": "b1e3cfee-bfe7-4adc-9b70-e7f0073b0823",
   "metadata": {},
   "source": [
    "*HC0, HC1, HC2 and HC3* are called *robust, heteroskedasticity-\n",
    "consistent, or heteroskedasticity-robust covariance matrix* estimators. The *HC0* estimator was developed by Eicker (1963) and then introduced by White (1980) and is sometimes called the Eicker-White or White covariance matrix estimator. Note that\n",
    "$$\n",
    "Var(\\hat{\\beta})^{\\textrm{HC0}} <Var(\\hat{\\beta})^{\\textrm{HC2}} <Var(\\hat{\\beta})^{\\textrm{HC3}} \n",
    "$$\n",
    "*HC2* and *HC3* are recommended in practice, however. *HC2* is unbiased under homoskedasticity and *HC3* is conservative for any *X* . Note that in most cases *HC1, HC2 and HC3* will be very similar, unless  the sample has a large leverage value *h* for some observation (or multiple large leverage values)."
   ]
  },
  {
   "cell_type": "markdown",
   "id": "a80d3e88-477a-4f97-8014-beafe7b9e71f",
   "metadata": {},
   "source": [
    "## Clustered Standard Errors"
   ]
  },
  {
   "cell_type": "markdown",
   "id": "1a0fdafb-1e3d-4d77-a8d6-462df29f5631",
   "metadata": {},
   "source": [
    "We'll use `tidyverse` to read the *.csv* file."
   ]
  },
  {
   "cell_type": "code",
   "execution_count": 17,
   "id": "3fdc38dd-35bc-4913-99a8-24ed4f110f3e",
   "metadata": {},
   "outputs": [
    {
     "name": "stderr",
     "output_type": "stream",
     "text": [
      "── \u001b[1mAttaching core tidyverse packages\u001b[22m ──────────────────────── tidyverse 2.0.0 ──\n",
      "\u001b[32m✔\u001b[39m \u001b[34mdplyr    \u001b[39m 1.1.3     \u001b[32m✔\u001b[39m \u001b[34mreadr    \u001b[39m 2.1.4\n",
      "\u001b[32m✔\u001b[39m \u001b[34mforcats  \u001b[39m 1.0.0     \u001b[32m✔\u001b[39m \u001b[34mstringr  \u001b[39m 1.5.0\n",
      "\u001b[32m✔\u001b[39m \u001b[34mggplot2  \u001b[39m 3.4.3     \u001b[32m✔\u001b[39m \u001b[34mtibble   \u001b[39m 3.2.1\n",
      "\u001b[32m✔\u001b[39m \u001b[34mlubridate\u001b[39m 1.9.3     \u001b[32m✔\u001b[39m \u001b[34mtidyr    \u001b[39m 1.3.0\n",
      "\u001b[32m✔\u001b[39m \u001b[34mpurrr    \u001b[39m 1.0.2     \n",
      "── \u001b[1mConflicts\u001b[22m ────────────────────────────────────────── tidyverse_conflicts() ──\n",
      "\u001b[31m✖\u001b[39m \u001b[34mdplyr\u001b[39m::\u001b[32mfilter()\u001b[39m masks \u001b[34mstats\u001b[39m::filter()\n",
      "\u001b[31m✖\u001b[39m \u001b[34mdplyr\u001b[39m::\u001b[32mlag()\u001b[39m    masks \u001b[34mstats\u001b[39m::lag()\n",
      "\u001b[36mℹ\u001b[39m Use the conflicted package (\u001b[3m\u001b[34m<http://conflicted.r-lib.org/>\u001b[39m\u001b[23m) to force all conflicts to become errors\n"
     ]
    }
   ],
   "source": [
    "library(tidyverse)"
   ]
  },
  {
   "cell_type": "code",
   "execution_count": 20,
   "id": "444efe86-9cd5-4f14-a554-c92b82a08db0",
   "metadata": {},
   "outputs": [
    {
     "name": "stderr",
     "output_type": "stream",
     "text": [
      "Warning message:\n",
      "“\u001b[1m\u001b[22mOne or more parsing issues, call `problems()` on your data frame for details,\n",
      "e.g.:\n",
      "  dat <- vroom(...)\n",
      "  problems(dat)”\n",
      "\u001b[1mRows: \u001b[22m\u001b[34m5795\u001b[39m \u001b[1mColumns: \u001b[22m\u001b[34m62\u001b[39m\n",
      "\u001b[36m──\u001b[39m \u001b[1mColumn specification\u001b[22m \u001b[36m────────────────────────────────────────────────────────\u001b[39m\n",
      "\u001b[1mDelimiter:\u001b[22m \",\"\n",
      "\u001b[31mchr\u001b[39m (40): district, division, zone, girl, agetest, stream_meanpercentile, SD...\n",
      "\u001b[32mdbl\u001b[39m (22): pupilid, schoolid, bungoma, tracking, sbm, etpteacher, lowstream, ...\n",
      "\n",
      "\u001b[36mℹ\u001b[39m Use `spec()` to retrieve the full column specification for this data.\n",
      "\u001b[36mℹ\u001b[39m Specify the column types or set `show_col_types = FALSE` to quiet this message.\n"
     ]
    },
    {
     "name": "stdout",
     "output_type": "stream",
     "text": [
      "            [,1]\n",
      "[1,] -0.07093386\n",
      "[2,]  0.13789390\n"
     ]
    },
    {
     "data": {
      "text/plain": [
       "\n",
       "Call:\n",
       "lm(formula = y ~ data$tracking)\n",
       "\n",
       "Residuals:\n",
       "    Min      1Q  Median      3Q     Max \n",
       "-1.4842 -0.7973 -0.1667  0.6299  3.3746 \n",
       "\n",
       "Coefficients:\n",
       "              Estimate Std. Error t value Pr(>|t|)    \n",
       "(Intercept)   -0.07093    0.01881  -3.771 0.000164 ***\n",
       "data$tracking  0.13789    0.02622   5.258  1.5e-07 ***\n",
       "---\n",
       "Signif. codes:  0 ‘***’ 0.001 ‘**’ 0.01 ‘*’ 0.05 ‘.’ 0.1 ‘ ’ 1\n",
       "\n",
       "Residual standard error: 0.9977 on 5793 degrees of freedom\n",
       "Multiple R-squared:  0.004751,\tAdjusted R-squared:  0.004579 \n",
       "F-statistic: 27.65 on 1 and 5793 DF,  p-value: 1.505e-07\n"
      ]
     },
     "metadata": {},
     "output_type": "display_data"
    }
   ],
   "source": [
    "# Load the data and create variables\n",
    "data <- read_csv(\"./data/DDK2011.csv\") \n",
    "y <- scale(as.matrix(data$totalscore))\n",
    "n <- nrow(y)\n",
    "x <- cbind(matrix(1,n,1),as.matrix(data$tracking)) \n",
    "schoolidmat <- as.matrix(data$schoolid)\n",
    "k <- ncol(x)\n",
    "xx <- t(x)%*%x\n",
    "invx <- solve(xx)\n",
    "beta <- solve(xx,t(x)%*%y)\n",
    "print(beta)\n",
    "fm_clustered<-lm(y~data$tracking)\n",
    "summary(fm_clustered)"
   ]
  },
  {
   "cell_type": "markdown",
   "id": "2facf5fc-0141-4e78-b1c3-d1e5e35a84ef",
   "metadata": {},
   "source": [
    "### Clustered robust standard error"
   ]
  },
  {
   "cell_type": "markdown",
   "id": "10ea1372-839d-4f77-a832-5904ab6c7967",
   "metadata": {},
   "source": [
    "Let's start again with the general form for the covariance matrix\n",
    "$$\n",
    "Var(\\hat{\\beta}) = (\\mathbf{X'X})^{-1} (\\mathbf{X' \\Omega_n X}) (\\mathbf{X'X})^{-1}\n",
    "$$\n",
    "where $ \\mathbf{\\Omega_n} $ is the clustered variance-covariance and is unknown. Let's assume that there are $G$ clusters, $g=1,\\ldots,G$. Now let's consider the covariance matrix of $\\hat{\\beta}$, let $\\Sigma_g = E \\left[\\mathbf{e_g e_g' | X_g}\\right]$ be the $n_g \\times n_g$ conditional matrix of the errors within the $g^{th}$ cluster. Assume that the observations across clusters are independent of each other then\n",
    "$$\n",
    "Var \\left[ \\left( \\sum_{g=1}^{G} \\mathbf{X_g' e_g } \\right)  | \\mathbf{X_g} \\right]  = \\sum_{g=1}^{G} Var \\left[ \\mathbf{X_g' e_g | X_g}  \\right]\n",
    "$$\n",
    "When solving this expression, we obtain \n",
    "$$\n",
    "\\Omega_n \\overset{def}{=} \\sum_{g=1}^G \\mathbf{X_g' \\Sigma_g X_g}\n",
    "$$\n",
    "This formula allows for correlation within clustered. A simplified version of this formula can be found by assuming independence of observations within the clusters. Arellano (1987) proposed a cluster-robust covariance matrix estimator which is an extension of the White estimator. Just as with the White covariance estimator, we can use the squared error $e_i^2$ as an unbiased estimate. But the problem is that the errors are not observed. Hence we can use the squared OLS residuals instead:\n",
    "$$\n",
    "\\hat{\\Omega}_n = \\sum_{g=1}^{G} \\mathbf{X_g' \\hat{e}_g \\hat{e}_g' X_g} = \\sum_{g=1}^{G} \\left( \\sum_{i=1}^{n_g} X_{ig} \\hat{e}_{ig} \\right) \\left( \\sum_{l=1}^{n_g} X_{lg} \\hat{e}_{lg} \\right)'\n",
    "$$\n",
    "and now\n",
    "$$\n",
    "Var(\\hat{\\beta}) = \\mathbf{a}_n (\\mathbf{X'X})^{-1} (\\mathbf{X' \\Omega_n X}) (\\mathbf{X'X})^{-1}\n",
    "$$\n",
    "with the finite sample adjustment term ${a}_n$:\n",
    "$$\n",
    "{a}_n = \\frac{(n-1)}{(n-k)}\\frac{G}{(G-1)}\n",
    "$$\n",
    "The factor $G /(G − 1)$ is from Chris Hansen (2007) in the context of equal-sized clusters to improve performance when the number of clusters $G$ is small. The factor $(n−1)/(n−k)$ is an ad hoc generalization which nests the adjustment used *HC1* since $G=n$ implies the simplification $a_n =n/(n−k)$."
   ]
  },
  {
   "cell_type": "markdown",
   "id": "29e69cf6-1919-4e5d-8f71-d6ed53896048",
   "metadata": {},
   "source": [
    "We need to choose a cluster. Let's cluster on `schoolid`:"
   ]
  },
  {
   "cell_type": "code",
   "execution_count": 21,
   "id": "b1b5862b-bb93-4a12-8d53-1f06de595837",
   "metadata": {},
   "outputs": [
    {
     "name": "stdout",
     "output_type": "stream",
     "text": [
      "[1] 0.05434114 0.07718409\n",
      "                 se_clustered          \n",
      "[1,] -0.07093386   0.05434114 -1.305344\n",
      "[2,]  0.13789390   0.07718409  1.786559\n"
     ]
    }
   ],
   "source": [
    "xe <- x*rep(y-x%*%beta,times=k) # X*ehat\n",
    "xe_sum <- rowsum(xe,schoolidmat) # sum_i X*ehat by group = schoolid\n",
    "G <- nrow(xe_sum)\n",
    "omega <- t(xe_sum)%*%xe_sum # Omegahat = sum_g (sum_i X*ehat)*(sum_i X*ehat)'\n",
    "scale <- G/(G-1)*(n-1)/(n-k) #scale a =\n",
    "V_clustered <- scale*invx%*%omega%*%invx \n",
    "se_clustered <- sqrt(diag(V_clustered))\n",
    "t_clustered <- beta / se_clustered \n",
    "ols_clustered <- cbind(beta,se_clustered,t_clustered)\n",
    "print(se_clustered)\n",
    "print(ols_clustered)"
   ]
  },
  {
   "cell_type": "markdown",
   "id": "5965e571-362a-47a8-8174-5b866f5f7529",
   "metadata": {},
   "source": [
    "We can use `sandwich` and `lmtest` to cluster the standard errors in `R`. Note that you need to specify the *id* or *variable* to cluster on."
   ]
  },
  {
   "cell_type": "code",
   "execution_count": 22,
   "id": "a66ad825-6644-4cd4-88e1-338d011a436c",
   "metadata": {},
   "outputs": [
    {
     "data": {
      "text/plain": [
       "\n",
       "t test of coefficients:\n",
       "\n",
       "               Estimate Std. Error t value Pr(>|t|)  \n",
       "(Intercept)   -0.070934   0.054341 -1.3053  0.19183  \n",
       "data$tracking  0.137894   0.077184  1.7866  0.07406 .\n",
       "---\n",
       "Signif. codes:  0 ‘***’ 0.001 ‘**’ 0.01 ‘*’ 0.05 ‘.’ 0.1 ‘ ’ 1\n"
      ]
     },
     "metadata": {},
     "output_type": "display_data"
    }
   ],
   "source": [
    "fm_c <- lm(y ~ data$tracking, data=data)\n",
    "coeftest(fm_c, vcov = vcovCL, cluster = ~data$schoolid)"
   ]
  },
  {
   "cell_type": "code",
   "execution_count": null,
   "id": "4d703117-77a5-4f53-acd7-864b27e50d48",
   "metadata": {},
   "outputs": [],
   "source": []
  }
 ],
 "metadata": {
  "kernelspec": {
   "display_name": "R",
   "language": "R",
   "name": "ir"
  },
  "language_info": {
   "codemirror_mode": "r",
   "file_extension": ".r",
   "mimetype": "text/x-r-source",
   "name": "R",
   "pygments_lexer": "r",
   "version": "4.3.1"
  }
 },
 "nbformat": 4,
 "nbformat_minor": 5
}
