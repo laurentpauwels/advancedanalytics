{
 "cells": [
  {
   "cell_type": "markdown",
   "id": "b5eaf72d-7193-416d-a6b7-2aaf62d5ece3",
   "metadata": {
    "slideshow": {
     "slide_type": "slide"
    }
   },
   "source": [
    "# Instrumental variable estimation in R"
   ]
  },
  {
   "cell_type": "markdown",
   "id": "58993092-d4af-461c-8be5-a897c154de2c",
   "metadata": {
    "slideshow": {
     "slide_type": "skip"
    }
   },
   "source": [
    "R Package requirements:\n",
    "* `AER`\n",
    "* `sampleSelection`\n",
    "* `knitr`\n",
    "* `tidyverse`\n",
    "* `ivpack`\n",
    "* `ivmodel`"
   ]
  },
  {
   "cell_type": "markdown",
   "id": "5bd9d693-0741-4246-a6ec-e2936e859b2e",
   "metadata": {
    "slideshow": {
     "slide_type": "slide"
    }
   },
   "source": [
    "Reference: Principles of Econometrics with `R` available at https://bookdown.org/ccolonescu/RPoE4/"
   ]
  },
  {
   "cell_type": "markdown",
   "id": "fba2772c-200f-4ea2-b448-4a3a479a5875",
   "metadata": {
    "slideshow": {
     "slide_type": "skip"
    }
   },
   "source": [
    "In `R`: You can use the function `ivreg()` which is in the package *AER: Applied Econometrics with R.* The package gives you also various relevant statistics for weak instruments and over-identification. \n",
    "\n",
    "You may need to first install AER:\n",
    "\n",
    "`install.packages(\"AER\", dependencies = TRUE)`\n",
    "\n",
    "`?ivreg` \n",
    "\n",
    "tells you a bit about the function. Follow the same procedure to install all other necessary packages.\n",
    "\n",
    "Other useful packages for more advanced analysis include `ivmodel` and `ivpack`. And again apply the same procedure to load or install the packages.\n",
    "\n",
    "To use `ivreg()` you first need to load the AER package:"
   ]
  },
  {
   "cell_type": "markdown",
   "id": "35d82be3-4553-40e2-84a0-5f1e5d478819",
   "metadata": {
    "slideshow": {
     "slide_type": "slide"
    },
    "tags": []
   },
   "source": [
    "### `Mroz87` dataset (from {sampleSelection} package)\n",
    "\n",
    "`Mroz87` data frame contains data about 753 married women. These data are collected within the \"Panel Study of Income Dynamics\" (PSID). Of the 753 observations, the first 428 are for women with positive hours worked in 1975, while the remaining 325 observations are for women who did not work for pay in 1975. A more complete discussion of the data is found in Mroz (1987), Appendix 1.\n",
    "\n",
    "References: Mroz, T.A. (1987). The Sensitivity of an Empirical Model of Married Women's Hours of Work to Economic and Statistical Assumptions. *Econometrica*, **55**, 765–799.\n",
    "\n",
    "Consider the following wage model `mroz` dataset. \n",
    "$$\n",
    "\\log(\\textrm{wage})=\\beta_1+\\beta_2 \\textrm{educ}+\\beta_3 \\textrm{exper}+\\beta_4 \\textrm{exper}^2+\\epsilon\n",
    "$$\n",
    "The problem with this model is that the error term may include some unobserved attributes, such as personal ability, that determine both `wage` and `education`. Hence, the independent variable `educ` is correlated with the error term, is endogenous.\n",
    "\n",
    "So we need an instrument to address the endogeneity of `educ`. We can try with `motheduc`. It is reasonable to assume that it does not directly influence the daughter’s wage, but it influences her education.\n",
    "\n",
    "#### First stage\n",
    "First we run the two-stage model with only one instrument,  `motheduc`. The first stage is to regress  `educ` on other regressors and the instrument, \n",
    "$$\n",
    "\\textrm{educ}=\\delta_1+\\delta_2 \\textrm{exper}+\\delta_3 \\textrm{exper}^2+\\theta_1 \\textrm{motheduc}+\\nu\n",
    "$$\n"
   ]
  },
  {
   "cell_type": "code",
   "execution_count": 2,
   "id": "06d3198e-6ef8-4256-8517-2808c6c8e610",
   "metadata": {
    "slideshow": {
     "slide_type": "slide"
    }
   },
   "outputs": [],
   "source": [
    "library(AER)\n",
    "library(sampleSelection)"
   ]
  },
  {
   "cell_type": "code",
   "execution_count": 3,
   "id": "551e538c-218b-483d-ba9d-a22cf81be803",
   "metadata": {
    "slideshow": {
     "slide_type": "subslide"
    }
   },
   "outputs": [],
   "source": [
    "data(Mroz87)\n",
    "mroz1 <- Mroz87[Mroz87$lfp==1,] #restricts sample to lfp=1\n",
    "educ.ols <- lm(educ~exper+I(exper^2)+motheduc, data=mroz1)"
   ]
  },
  {
   "cell_type": "code",
   "execution_count": 8,
   "id": "a38be39c-ca46-43e1-8198-e8440ffdc017",
   "metadata": {
    "slideshow": {
     "slide_type": "subslide"
    }
   },
   "outputs": [],
   "source": [
    "library(knitr)\n",
    "library(tidyverse)\n",
    "library(broom)"
   ]
  },
  {
   "cell_type": "code",
   "execution_count": 9,
   "id": "404294c4-b289-4deb-b5a7-d5db1abc0c27",
   "metadata": {
    "slideshow": {
     "slide_type": "subslide"
    }
   },
   "outputs": [
    {
     "data": {
      "text/plain": [
       "\n",
       "\n",
       "Table: First stage in the 2SLS model for the 'wage' equation\n",
       "\n",
       "|  Predictor  | Coefficents | Std error | t-stat  | p-value |\n",
       "|:-----------:|:-----------:|:---------:|:-------:|:-------:|\n",
       "| (Intercept) |   9.7751    |  0.4239   | 23.0605 | 0.0000  |\n",
       "|    exper    |   0.0489    |  0.0417   | 1.1726  | 0.2416  |\n",
       "| I(exper^2)  |   -0.0013   |  0.0012   | -1.0290 | 0.3040  |\n",
       "|  motheduc   |   0.2677    |  0.0311   | 8.5992  | 0.0000  |"
      ]
     },
     "metadata": {},
     "output_type": "display_data"
    }
   ],
   "source": [
    " lm(educ~exper+I(exper^2)+motheduc, data=mroz1)%>%\n",
    "  tidy() %>%\n",
    "  kable(col.names = c(\"Predictor\", \"Coefficents\", \"Std error\", \"t-stat\", \"p-value\"),\n",
    "          digits=4, align='c',caption= \"First stage in the 2SLS model for the 'wage' equation\") \n",
    "         #kable_classic(full_width = F, html_font = \"Cambria\")"
   ]
  },
  {
   "cell_type": "markdown",
   "id": "9bdae406-177b-4a30-a7b4-30f893ad85c4",
   "metadata": {
    "slideshow": {
     "slide_type": "slide"
    }
   },
   "source": [
    "The p-value for `motheduc` is very low indicating a strong correlation between this instrument and the endogenous variable `educ` **even after controling for other variables**. \n",
    "\n",
    "#### Second stage\n",
    "The second stage in the two-stage procedure is to create the fitted values of `educ` from the first stage and plug them into the model of interest to replace the original variable `educ`."
   ]
  },
  {
   "cell_type": "code",
   "execution_count": 10,
   "id": "343c203b-696b-41a0-b783-0c7a776f5d83",
   "metadata": {},
   "outputs": [
    {
     "data": {
      "text/plain": [
       "\n",
       "\n",
       "Table: Second stage in the 2SLS model for the 'wage' equation\n",
       "\n",
       "|  Predictor  | Coefficents | Std error | t-stat  | p-value |\n",
       "|:-----------:|:-----------:|:---------:|:-------:|:-------:|\n",
       "| (Intercept) |   0.1982    |  0.4933   | 0.4017  | 0.6881  |\n",
       "|   educHat   |   0.0493    |  0.0391   | 1.2613  | 0.2079  |\n",
       "|    exper    |   0.0449    |  0.0142   | 3.1668  | 0.0017  |\n",
       "| I(exper^2)  |   -0.0009   |  0.0004   | -2.1749 | 0.0302  |"
      ]
     },
     "metadata": {},
     "output_type": "display_data"
    }
   ],
   "source": [
    "educHat <- fitted(educ.ols)\n",
    "wage.2sls <- lm(log(wage)~educHat+exper+I(exper^2), data=mroz1)\n",
    "kable(tidy(wage.2sls), col.names = c(\"Predictor\", \"Coefficents\", \"Std error\", \"t-stat\", \"p-value\"),\n",
    "      digits=4, align='c',caption=\n",
    "  \"Second stage in the 2SLS model for the 'wage' equation\")"
   ]
  },
  {
   "cell_type": "markdown",
   "id": "a8cf1975-c6e2-41b5-9074-bb3bd5010eb1",
   "metadata": {},
   "source": [
    "These are the results of the explicit 2SLS procedure. Note that the standard errors calculated in this way are **incorrect**. The correct method is to use the `ivreg` function to solve an instrumental variable model in `R`."
   ]
  },
  {
   "cell_type": "markdown",
   "id": "c6ad887f-b348-477e-90d5-bcc40e53f28d",
   "metadata": {},
   "source": [
    "Let's compare some models:"
   ]
  },
  {
   "cell_type": "code",
   "execution_count": 11,
   "id": "4465abb0-73fd-4e20-9088-7fcc588ca854",
   "metadata": {},
   "outputs": [
    {
     "data": {
      "text/plain": [
       "\n",
       "\n",
       "Table: OLS model\n",
       "\n",
       "|  Predictor  | Coefficents | Std error | t-stat  | p-value |\n",
       "|:-----------:|:-----------:|:---------:|:-------:|:-------:|\n",
       "| (Intercept) |   -0.5220   |  0.1986   | -2.6282 | 0.0089  |\n",
       "|    educ     |   0.1075    |  0.0141   | 7.5983  | 0.0000  |\n",
       "|    exper    |   0.0416    |  0.0132   | 3.1549  | 0.0017  |\n",
       "| I(exper^2)  |   -0.0008   |  0.0004   | -2.0628 | 0.0397  |"
      ]
     },
     "metadata": {},
     "output_type": "display_data"
    },
    {
     "data": {
      "text/plain": [
       "\n",
       "\n",
       "Table: 2SLS model motheduc as instrument\n",
       "\n",
       "|  Predictor  | Coefficents | Std error | t-stat  | p-value |\n",
       "|:-----------:|:-----------:|:---------:|:-------:|:-------:|\n",
       "| (Intercept) |   0.1982    |  0.4729   | 0.4191  | 0.6754  |\n",
       "|    educ     |   0.0493    |  0.0374   | 1.3159  | 0.1889  |\n",
       "|    exper    |   0.0449    |  0.0136   | 3.3039  | 0.0010  |\n",
       "| I(exper^2)  |   -0.0009   |  0.0004   | -2.2690 | 0.0238  |"
      ]
     },
     "metadata": {},
     "output_type": "display_data"
    },
    {
     "data": {
      "text/plain": [
       "\n",
       "\n",
       "Table: 2SLS model motheduc & fatheduc as instruments\n",
       "\n",
       "|  Predictor  | Coefficents | Std error | t-stat  | p-value |\n",
       "|:-----------:|:-----------:|:---------:|:-------:|:-------:|\n",
       "| (Intercept) |   0.0481    |  0.4003   | 0.1202  | 0.9044  |\n",
       "|    educ     |   0.0614    |  0.0314   | 1.9530  | 0.0515  |\n",
       "|    exper    |   0.0442    |  0.0134   | 3.2883  | 0.0011  |\n",
       "| I(exper^2)  |   -0.0009   |  0.0004   | -2.2380 | 0.0257  |"
      ]
     },
     "metadata": {},
     "output_type": "display_data"
    }
   ],
   "source": [
    "mroz1.ols <- lm(log(wage)~educ+exper+I(exper^2), data=mroz1)\n",
    "kable(tidy(mroz1.ols), col.names = c(\"Predictor\", \"Coefficents\", \"Std error\", \"t-stat\", \"p-value\"),\n",
    "          digits=4, align='c',caption= \"OLS model\") \n",
    "\n",
    "mroz1.iv1 <- ivreg(log(wage)~educ+exper+I(exper^2)|\n",
    "            exper+I(exper^2)+motheduc, data=mroz1)\n",
    "kable(tidy(mroz1.iv1), col.names = c(\"Predictor\", \"Coefficents\", \"Std error\", \"t-stat\", \"p-value\"),\n",
    "          digits=4, align='c',caption= \"2SLS model motheduc as instrument\")\n",
    "\n",
    "mroz1.iv2 <- ivreg(log(wage)~educ+exper+I(exper^2)|\n",
    "            exper+I(exper^2)+motheduc+fatheduc, data=mroz1) \n",
    "kable(tidy(mroz1.iv2), col.names = c(\"Predictor\", \"Coefficents\", \"Std error\", \"t-stat\", \"p-value\"),\n",
    "          digits=4, align='c',caption= \"2SLS model motheduc & fatheduc as instruments\")"
   ]
  },
  {
   "cell_type": "markdown",
   "id": "b0eb9430-9c63-4a3f-be03-700e464339f2",
   "metadata": {},
   "source": [
    "The explicit 'Second Stage' model above and the IV model with only `motheduc` instrument yield the same coefficients (the `educ` in the IV model is equivalent to the `educHat` in the second stage), but the standard errors are different. The correct ones are those provided by the IV model."
   ]
  },
  {
   "cell_type": "markdown",
   "id": "29574bcd-1492-4423-a131-8aa0b83796d2",
   "metadata": {},
   "source": [
    "#### Notes:\n",
    "1. Some of the individuals are not in the labor force, their wages are zero and the log cannot be calculated. These observations using only those for which `lpf==1`. \n",
    "2. The instrument list in the command `ivreg` includes the instrument `motheduc` and all exogenous regressors. \n",
    "3. The vertical bar `|` separates the regressor list from the instrument list."
   ]
  },
  {
   "cell_type": "markdown",
   "id": "d956bfb7-d210-48d2-a5b0-66c6041a70bf",
   "metadata": {},
   "source": [
    "### Specification & Weak Instruments"
   ]
  },
  {
   "cell_type": "markdown",
   "id": "6427101e-3c5f-41e3-8571-9a626d86aa09",
   "metadata": {},
   "source": [
    "Let's test for weak instruments in the `wage` equation. We can test the joint significance of the instruments in an `educ` model as shown earlier\n",
    "\n",
    "$$\n",
    "\\textrm{educ}=\\delta_1+\\delta_2 \\textrm{exper}+\\delta_3 \\textrm{exper}^2+\\theta_1 \\textrm{motheduc}+\\theta_2 \\textrm{fatheduc}+\\nu\n",
    "$$\n",
    "\n",
    "Essentially we could just run an F-statistic on the first stage regression. And use Stock and Yogo (2004) rule of thumb that the F-stat$>10$ or, for only one instrument, a t-stat$>3.16$, to make sure that we have strong instruments:"
   ]
  },
  {
   "cell_type": "code",
   "execution_count": 12,
   "id": "182bb278-b3c8-4b7d-8864-db2a566c2fa7",
   "metadata": {},
   "outputs": [
    {
     "data": {
      "text/plain": [
       "\n",
       "\n",
       "Table: The 'educ' first-stage equation\n",
       "\n",
       "|Predictor   | Coefficents| Std error|  t-stat| p-value|\n",
       "|:-----------|-----------:|---------:|-------:|-------:|\n",
       "|(Intercept) |      9.7751|    0.4239| 23.0605|  0.0000|\n",
       "|exper       |      0.0489|    0.0417|  1.1726|  0.2416|\n",
       "|I(exper^2)  |     -0.0013|    0.0012| -1.0290|  0.3040|\n",
       "|motheduc    |      0.2677|    0.0311|  8.5992|  0.0000|"
      ]
     },
     "metadata": {},
     "output_type": "display_data"
    },
    {
     "data": {
      "text/html": [
       "<table class=\"dataframe\">\n",
       "<caption>A anova: 2 × 6</caption>\n",
       "<thead>\n",
       "\t<tr><th></th><th scope=col>Res.Df</th><th scope=col>RSS</th><th scope=col>Df</th><th scope=col>Sum of Sq</th><th scope=col>F</th><th scope=col>Pr(&gt;F)</th></tr>\n",
       "\t<tr><th></th><th scope=col>&lt;dbl&gt;</th><th scope=col>&lt;dbl&gt;</th><th scope=col>&lt;dbl&gt;</th><th scope=col>&lt;dbl&gt;</th><th scope=col>&lt;dbl&gt;</th><th scope=col>&lt;dbl&gt;</th></tr>\n",
       "</thead>\n",
       "<tbody>\n",
       "\t<tr><th scope=row>1</th><td>425</td><td>2219.216</td><td>NA</td><td>      NA</td><td>     NA</td><td>          NA</td></tr>\n",
       "\t<tr><th scope=row>2</th><td>423</td><td>1758.575</td><td> 2</td><td>460.6411</td><td>55.4003</td><td>4.268909e-22</td></tr>\n",
       "</tbody>\n",
       "</table>\n"
      ],
      "text/latex": [
       "A anova: 2 × 6\n",
       "\\begin{tabular}{r|llllll}\n",
       "  & Res.Df & RSS & Df & Sum of Sq & F & Pr(>F)\\\\\n",
       "  & <dbl> & <dbl> & <dbl> & <dbl> & <dbl> & <dbl>\\\\\n",
       "\\hline\n",
       "\t1 & 425 & 2219.216 & NA &       NA &      NA &           NA\\\\\n",
       "\t2 & 423 & 1758.575 &  2 & 460.6411 & 55.4003 & 4.268909e-22\\\\\n",
       "\\end{tabular}\n"
      ],
      "text/markdown": [
       "\n",
       "A anova: 2 × 6\n",
       "\n",
       "| <!--/--> | Res.Df &lt;dbl&gt; | RSS &lt;dbl&gt; | Df &lt;dbl&gt; | Sum of Sq &lt;dbl&gt; | F &lt;dbl&gt; | Pr(&gt;F) &lt;dbl&gt; |\n",
       "|---|---|---|---|---|---|---|\n",
       "| 1 | 425 | 2219.216 | NA |       NA |      NA |           NA |\n",
       "| 2 | 423 | 1758.575 |  2 | 460.6411 | 55.4003 | 4.268909e-22 |\n",
       "\n"
      ],
      "text/plain": [
       "  Res.Df RSS      Df Sum of Sq F       Pr(>F)      \n",
       "1 425    2219.216 NA       NA       NA           NA\n",
       "2 423    1758.575  2 460.6411  55.4003 4.268909e-22"
      ]
     },
     "metadata": {},
     "output_type": "display_data"
    }
   ],
   "source": [
    "educ2.ols <- lm(educ~exper+I(exper^2)+motheduc+fatheduc, data=mroz1)\n",
    "tab <- tidy(educ.ols)\n",
    "kable(tab, col.names = c(\"Predictor\", \"Coefficents\", \"Std error\", \"t-stat\", \"p-value\"), digits=4,\n",
    "      caption=\"The 'educ' first-stage equation\")\n",
    "linearHypothesis(educ2.ols, c(\"motheduc=0\", \"fatheduc=0\"))"
   ]
  },
  {
   "cell_type": "markdown",
   "id": "bcb116ee-4a3e-4f79-9e87-762e6fb8f7a4",
   "metadata": {},
   "source": [
    "The null hypothesis is rejected that both `motheduc` and `fatheduc` coefficients are zero. This means that **at least one instrument is strong**.\n",
    "\n",
    "Note that this is not the same as looking at the F-stat from the OLS regression. That F-stat test the linear hypothesis on all regressors, not just the instruments. "
   ]
  },
  {
   "cell_type": "code",
   "execution_count": 13,
   "id": "a6906939-32d6-4338-8e02-71273f4514d0",
   "metadata": {},
   "outputs": [
    {
     "data": {
      "text/plain": [
       "\n",
       "Call:\n",
       "lm(formula = educ ~ exper + I(exper^2) + motheduc + fatheduc, \n",
       "    data = mroz1)\n",
       "\n",
       "Residuals:\n",
       "    Min      1Q  Median      3Q     Max \n",
       "-7.8057 -1.0520 -0.0371  1.0258  6.3787 \n",
       "\n",
       "Coefficients:\n",
       "             Estimate Std. Error t value Pr(>|t|)    \n",
       "(Intercept)  9.102640   0.426561  21.340  < 2e-16 ***\n",
       "exper        0.045225   0.040251   1.124    0.262    \n",
       "I(exper^2)  -0.001009   0.001203  -0.839    0.402    \n",
       "motheduc     0.157597   0.035894   4.391 1.43e-05 ***\n",
       "fatheduc     0.189548   0.033756   5.615 3.56e-08 ***\n",
       "---\n",
       "Signif. codes:  0 ‘***’ 0.001 ‘**’ 0.01 ‘*’ 0.05 ‘.’ 0.1 ‘ ’ 1\n",
       "\n",
       "Residual standard error: 2.039 on 423 degrees of freedom\n",
       "Multiple R-squared:  0.2115,\tAdjusted R-squared:  0.204 \n",
       "F-statistic: 28.36 on 4 and 423 DF,  p-value: < 2.2e-16\n"
      ]
     },
     "metadata": {},
     "output_type": "display_data"
    }
   ],
   "source": [
    "summary(educ2.ols)"
   ]
  },
  {
   "cell_type": "markdown",
   "id": "7ad7bdf0-eefc-46f3-a9ec-52b527b8f0f7",
   "metadata": {},
   "source": [
    "#### Wu-Hausman and Sargan tests"
   ]
  },
  {
   "cell_type": "markdown",
   "id": "fe2d2654-2a12-49b0-9079-3f420d72d728",
   "metadata": {},
   "source": [
    "Let's test whether the variables of concern are indeed endogenous. This problem is addressed by the Hausman test for endogeneity, where the null hypothesis is H$_0: \\textrm{Cov}(x,\\epsilon)=0$. If we reject the null hypothesis then we have endogeneity and we need for instrumental variables.\n",
    "\n",
    "The Sargan test is to test for the validity of instruments. It tests whether the instruments are corrrelated with the error term, and can only be performed for the extra instruments, those that are in excess of the number of endogenous variables. This is also called a test for **overidentifying restrictions**. The null hypothesis is that the covariance between the instrument and the error term is zero, i.e., H$_0: \\textrm{Cov}(z,\\epsilon)=0$. Rejecting the null indicates that at least one of the extra instruments is not valid.\n",
    "\n",
    "`R` automatically performs these two tests and the weak instrument test, and reports the results in the output to the `ivreg` function."
   ]
  },
  {
   "cell_type": "code",
   "execution_count": 14,
   "id": "7ec91e50-7a65-4741-8a2d-6c99852a1415",
   "metadata": {},
   "outputs": [
    {
     "data": {
      "text/plain": [
       "\n",
       "Call:\n",
       "ivreg(formula = log(wage) ~ educ + exper + I(exper^2) | exper + \n",
       "    I(exper^2) + motheduc + fatheduc, data = mroz1)\n",
       "\n",
       "Residuals:\n",
       "    Min      1Q  Median      3Q     Max \n",
       "-3.0986 -0.3196  0.0551  0.3689  2.3493 \n",
       "\n",
       "Coefficients:\n",
       "              Estimate Std. Error t value Pr(>|t|)   \n",
       "(Intercept)  0.0481003  0.4003281   0.120  0.90442   \n",
       "educ         0.0613966  0.0314367   1.953  0.05147 . \n",
       "exper        0.0441704  0.0134325   3.288  0.00109 **\n",
       "I(exper^2)  -0.0008990  0.0004017  -2.238  0.02574 * \n",
       "\n",
       "Diagnostic tests:\n",
       "                 df1 df2 statistic p-value    \n",
       "Weak instruments   2 423    55.400  <2e-16 ***\n",
       "Wu-Hausman         1 423     2.793  0.0954 .  \n",
       "Sargan             1  NA     0.378  0.5386    \n",
       "---\n",
       "Signif. codes:  0 ‘***’ 0.001 ‘**’ 0.01 ‘*’ 0.05 ‘.’ 0.1 ‘ ’ 1\n",
       "\n",
       "Residual standard error: 0.6747 on 424 degrees of freedom\n",
       "Multiple R-Squared: 0.1357,\tAdjusted R-squared: 0.1296 \n",
       "Wald test: 8.141 on 3 and 424 DF,  p-value: 2.787e-05 \n"
      ]
     },
     "metadata": {},
     "output_type": "display_data"
    }
   ],
   "source": [
    "summary(mroz1.iv2, diagnostics=TRUE)"
   ]
  },
  {
   "cell_type": "markdown",
   "id": "959e76b9-ee14-4c3d-bcd9-4ea3838f2240",
   "metadata": {},
   "source": [
    "With one instrument:"
   ]
  },
  {
   "cell_type": "code",
   "execution_count": 15,
   "id": "9afbb0d0-2a00-4d7a-ab02-fa31751718d0",
   "metadata": {},
   "outputs": [
    {
     "data": {
      "text/plain": [
       "\n",
       "Call:\n",
       "ivreg(formula = log(wage) ~ educ + exper + I(exper^2) | exper + \n",
       "    I(exper^2) + motheduc, data = mroz1)\n",
       "\n",
       "Residuals:\n",
       "     Min       1Q   Median       3Q      Max \n",
       "-3.10804 -0.32633  0.06024  0.36772  2.34351 \n",
       "\n",
       "Coefficients:\n",
       "              Estimate Std. Error t value Pr(>|t|)   \n",
       "(Intercept)  0.1981861  0.4728772   0.419  0.67535   \n",
       "educ         0.0492630  0.0374360   1.316  0.18891   \n",
       "exper        0.0448558  0.0135768   3.304  0.00103 **\n",
       "I(exper^2)  -0.0009221  0.0004064  -2.269  0.02377 * \n",
       "\n",
       "Diagnostic tests:\n",
       "                 df1 df2 statistic p-value    \n",
       "Weak instruments   1 424    73.946  <2e-16 ***\n",
       "Wu-Hausman         1 423     2.968  0.0856 .  \n",
       "Sargan             0  NA        NA      NA    \n",
       "---\n",
       "Signif. codes:  0 ‘***’ 0.001 ‘**’ 0.01 ‘*’ 0.05 ‘.’ 0.1 ‘ ’ 1\n",
       "\n",
       "Residual standard error: 0.6796 on 424 degrees of freedom\n",
       "Multiple R-Squared: 0.1231,\tAdjusted R-squared: 0.1169 \n",
       "Wald test: 7.348 on 3 and 424 DF,  p-value: 8.228e-05 \n"
      ]
     },
     "metadata": {},
     "output_type": "display_data"
    }
   ],
   "source": [
    "summary(mroz1.iv1, diagnostics=TRUE)"
   ]
  },
  {
   "cell_type": "markdown",
   "id": "c2e34467-a01c-46cd-8465-572e9f429ccc",
   "metadata": {},
   "source": [
    "The test results for the wage equation can be interpreted as:\n",
    "\n",
    "1. Weak instruments test: rejects the null --> that at least one instrument is strong\n",
    "2. (Wu-)Hausman test for endogeneity: rejects the null that the `educ` is uncorrelated with the error term only at the 10% level, indicating that `educ` is marginally endogenous.\n",
    "3. Sargan overidentifying restrictions: does not reject the null, meaning that the extra instruments are valid and hence uncorrelated with the error term."
   ]
  },
  {
   "cell_type": "markdown",
   "id": "33dc01d0-aa17-4d37-9a3a-a73e392938a1",
   "metadata": {},
   "source": [
    "#### More Weak Instrument Tests"
   ]
  },
  {
   "cell_type": "code",
   "execution_count": 33,
   "id": "422c4944-cac7-4d81-b186-35d1296638d5",
   "metadata": {},
   "outputs": [],
   "source": [
    "library(ivmodel)"
   ]
  },
  {
   "cell_type": "markdown",
   "id": "03590901-1170-4184-a359-47e1e29b704b",
   "metadata": {},
   "source": [
    "#### With one instrument"
   ]
  },
  {
   "cell_type": "code",
   "execution_count": 40,
   "id": "1034c045-b8dd-4674-856d-8d952560d078",
   "metadata": {},
   "outputs": [
    {
     "data": {
      "text/plain": [
       "\n",
       "Call:\n",
       "ivmodel(Y = log(mroz1$wage), D = mroz1$educ, Z = mroz1$motheduc, \n",
       "    X = mroz1$exper + I(mroz1$exper^2), intercept = TRUE, beta0 = 0, \n",
       "    alpha = 0.05, k = c(0, 1), manyweakSE = FALSE, heteroSE = FALSE, \n",
       "    clusterID = NULL, deltarange = NULL, na.action = na.omit)\n",
       "sample size: 428\n",
       "_ _ _ _ _ _ _ _ _ _ _ _ _ _ _ _ _ _ _ _ _ _ _ _ _ _ _ _ _ _ \n",
       "\n",
       "First Stage Regression Result:\n",
       "\n",
       "F=74.37008, df1=1, df2=425, p-value is < 2.22e-16\n",
       "R-squared=0.1489278,   Adjusted R-squared=0.1469253\n",
       "Residual standard error: 2.112016 on 426 degrees of freedom\n",
       "_ _ _ _ _ _ _ _ _ _ _ _ _ _ _ _ _ _ _ _ _ _ _ _ _ _ _ _ _ _ \n",
       "\n",
       "Coefficients of k-Class Estimators:\n",
       "\n",
       "             k Estimate Std. Error t value Pr(>|t|)    \n",
       "OLS    0.00000  0.11019    0.01427   7.724 8.17e-14 ***\n",
       "Fuller 0.99765  0.05294    0.03741   1.415    0.158    \n",
       "TSLS   1.00000  0.05204    0.03768   1.381    0.168    \n",
       "LIML   1.00000  0.05204    0.03768   1.381    0.168    \n",
       "---\n",
       "Signif. codes:  0 ‘***’ 0.001 ‘**’ 0.01 ‘*’ 0.05 ‘.’ 0.1 ‘ ’ 1\n",
       "_ _ _ _ _ _ _ _ _ _ _ _ _ _ _ _ _ _ _ _ _ _ _ _ _ _ _ _ _ _ \n",
       "\n",
       "Alternative tests for the treatment effect under H_0: beta=0.\n",
       "\n",
       "Anderson-Rubin test (under F distribution):\n",
       "F=1.744863, df1=1, df2=425, p-value is 0.18723\n",
       "95 percent confidence interval:\n",
       " [-0.0278656252783787, 0.124450872283743]\n",
       "\n",
       "Conditional Likelihood Ratio test (under Normal approximation):\n",
       "Test Stat=1.744863, p-value is 0.18723\n",
       "95 percent confidence interval:\n",
       " [-0.0278659606236418, 0.12445114772149]"
      ]
     },
     "metadata": {},
     "output_type": "display_data"
    }
   ],
   "source": [
    "ivmodel1 <- ivmodel(log(mroz1$wage), mroz1$educ, mroz1$motheduc, mroz1$exper+I(mroz1$exper^2), intercept = TRUE,\n",
    "        beta0 = 0, alpha = 0.05, k = c(0, 1),\n",
    "        manyweakSE = FALSE, heteroSE = FALSE, clusterID = NULL,\n",
    "        deltarange = NULL, na.action = na.omit)\n",
    "summary(ivmodel1)"
   ]
  },
  {
   "cell_type": "markdown",
   "id": "364abcb5-5f1a-464a-a04f-3c7cdc76158d",
   "metadata": {},
   "source": [
    "`AR.test` computes the Anderson-Rubin (1949) test for the `ivmodel` object as well as the associated confidence interval."
   ]
  },
  {
   "cell_type": "markdown",
   "id": "78be9c96-ee2a-4735-8a2d-e3a77f37dfed",
   "metadata": {},
   "source": [
    "Arguments into AR.test():\n",
    "- ivmodel = ivmodel object\n",
    "- beta0 = Null value β0 for testing null hypothesis H0 : β = β0 in ivmodel. Default is 0.\n",
    "- alpha = The significance level for hypothesis testing. Default is 0.05."
   ]
  },
  {
   "cell_type": "code",
   "execution_count": 41,
   "id": "e27e461c-1412-45e2-bc4a-deabda66dc6d",
   "metadata": {},
   "outputs": [
    {
     "data": {
      "text/html": [
       "<dl>\n",
       "\t<dt>$Fstat</dt>\n",
       "\t\t<dd>1.74486275527179</dd>\n",
       "\t<dt>$df</dt>\n",
       "\t\t<dd><style>\n",
       ".list-inline {list-style: none; margin:0; padding: 0}\n",
       ".list-inline>li {display: inline-block}\n",
       ".list-inline>li:not(:last-child)::after {content: \"\\00b7\"; padding: 0 .5ex}\n",
       "</style>\n",
       "<ol class=list-inline><li>1</li><li>425</li></ol>\n",
       "</dd>\n",
       "\t<dt>$p.value</dt>\n",
       "\t\t<dd>0.187234640567586</dd>\n",
       "\t<dt>$ci.info</dt>\n",
       "\t\t<dd>'[-0.0278656252783787, 0.124450872283743]'</dd>\n",
       "\t<dt>$ci</dt>\n",
       "\t\t<dd><table class=\"dataframe\">\n",
       "<caption>A matrix: 1 × 2 of type dbl</caption>\n",
       "<thead>\n",
       "\t<tr><th scope=col>lower</th><th scope=col>upper</th></tr>\n",
       "</thead>\n",
       "<tbody>\n",
       "\t<tr><td>-0.02786563</td><td>0.1244509</td></tr>\n",
       "</tbody>\n",
       "</table>\n",
       "</dd>\n",
       "</dl>\n"
      ],
      "text/latex": [
       "\\begin{description}\n",
       "\\item[\\$Fstat] 1.74486275527179\n",
       "\\item[\\$df] \\begin{enumerate*}\n",
       "\\item 1\n",
       "\\item 425\n",
       "\\end{enumerate*}\n",
       "\n",
       "\\item[\\$p.value] 0.187234640567586\n",
       "\\item[\\$ci.info] '{[}-0.0278656252783787, 0.124450872283743{]}'\n",
       "\\item[\\$ci] A matrix: 1 × 2 of type dbl\n",
       "\\begin{tabular}{ll}\n",
       " lower & upper\\\\\n",
       "\\hline\n",
       "\t -0.02786563 & 0.1244509\\\\\n",
       "\\end{tabular}\n",
       "\n",
       "\\end{description}\n"
      ],
      "text/markdown": [
       "$Fstat\n",
       ":   1.74486275527179\n",
       "$df\n",
       ":   1. 1\n",
       "2. 425\n",
       "\n",
       "\n",
       "\n",
       "$p.value\n",
       ":   0.187234640567586\n",
       "$ci.info\n",
       ":   '[-0.0278656252783787, 0.124450872283743]'\n",
       "$ci\n",
       ":   \n",
       "A matrix: 1 × 2 of type dbl\n",
       "\n",
       "| lower | upper |\n",
       "|---|---|\n",
       "| -0.02786563 | 0.1244509 |\n",
       "\n",
       "\n",
       "\n",
       "\n"
      ],
      "text/plain": [
       "$Fstat\n",
       "[1] 1.744863\n",
       "\n",
       "$df\n",
       "[1]   1 425\n",
       "\n",
       "$p.value\n",
       "[1] 0.1872346\n",
       "\n",
       "$ci.info\n",
       "[1] \"[-0.0278656252783787, 0.124450872283743]\"\n",
       "\n",
       "$ci\n",
       "           lower     upper\n",
       "[1,] -0.02786563 0.1244509\n"
      ]
     },
     "metadata": {},
     "output_type": "display_data"
    }
   ],
   "source": [
    " AR.test(ivmodel1, beta0 = 0, alpha = 0.05)"
   ]
  },
  {
   "cell_type": "markdown",
   "id": "f1f00f1f-aefd-49ed-8ed4-ee73ab0a7339",
   "metadata": {},
   "source": [
    "It is also possible to construct Confidence Internval for the IV estimates, with Anderson-Rubin CI displayed among others. \n",
    "\n",
    "Use `confint` to return a matrix of two columns, where each row represents a confident interval for different IV approaches, including k-Class, Anderson and Rubin (AR) and CLR (Moreira 2003) estimations."
   ]
  },
  {
   "cell_type": "code",
   "execution_count": 42,
   "id": "a4f7651c-fd5d-4b20-bc12-27e7478c88f0",
   "metadata": {},
   "outputs": [
    {
     "data": {
      "text/html": [
       "<table class=\"dataframe\">\n",
       "<caption>A matrix: 6 × 2 of type dbl</caption>\n",
       "<thead>\n",
       "\t<tr><th></th><th scope=col>2.5%</th><th scope=col>97.5%</th></tr>\n",
       "</thead>\n",
       "<tbody>\n",
       "\t<tr><th scope=row>OLS</th><td> 0.08214757</td><td>0.1382262</td></tr>\n",
       "\t<tr><th scope=row>Fuller</th><td>-0.02058514</td><td>0.1264713</td></tr>\n",
       "\t<tr><th scope=row>TSLS</th><td>-0.02202749</td><td>0.1261006</td></tr>\n",
       "\t<tr><th scope=row>LIML</th><td>-0.02202749</td><td>0.1261006</td></tr>\n",
       "\t<tr><th scope=row>AR</th><td>-0.02786563</td><td>0.1244509</td></tr>\n",
       "\t<tr><th scope=row>CLR</th><td>-0.02786596</td><td>0.1244511</td></tr>\n",
       "</tbody>\n",
       "</table>\n"
      ],
      "text/latex": [
       "A matrix: 6 × 2 of type dbl\n",
       "\\begin{tabular}{r|ll}\n",
       "  & 2.5\\% & 97.5\\%\\\\\n",
       "\\hline\n",
       "\tOLS &  0.08214757 & 0.1382262\\\\\n",
       "\tFuller & -0.02058514 & 0.1264713\\\\\n",
       "\tTSLS & -0.02202749 & 0.1261006\\\\\n",
       "\tLIML & -0.02202749 & 0.1261006\\\\\n",
       "\tAR & -0.02786563 & 0.1244509\\\\\n",
       "\tCLR & -0.02786596 & 0.1244511\\\\\n",
       "\\end{tabular}\n"
      ],
      "text/markdown": [
       "\n",
       "A matrix: 6 × 2 of type dbl\n",
       "\n",
       "| <!--/--> | 2.5% | 97.5% |\n",
       "|---|---|---|\n",
       "| OLS |  0.08214757 | 0.1382262 |\n",
       "| Fuller | -0.02058514 | 0.1264713 |\n",
       "| TSLS | -0.02202749 | 0.1261006 |\n",
       "| LIML | -0.02202749 | 0.1261006 |\n",
       "| AR | -0.02786563 | 0.1244509 |\n",
       "| CLR | -0.02786596 | 0.1244511 |\n",
       "\n"
      ],
      "text/plain": [
       "       2.5%        97.5%    \n",
       "OLS     0.08214757 0.1382262\n",
       "Fuller -0.02058514 0.1264713\n",
       "TSLS   -0.02202749 0.1261006\n",
       "LIML   -0.02202749 0.1261006\n",
       "AR     -0.02786563 0.1244509\n",
       "CLR    -0.02786596 0.1244511"
      ]
     },
     "metadata": {},
     "output_type": "display_data"
    }
   ],
   "source": [
    "confint(ivmodel1)"
   ]
  },
  {
   "cell_type": "code",
   "execution_count": 45,
   "id": "eab6169a-6e1b-4f99-a3c0-71713f6864b9",
   "metadata": {},
   "outputs": [
    {
     "data": {
      "text/html": [
       "<table class=\"dataframe\">\n",
       "<caption>A matrix: 6 × 2 of type dbl</caption>\n",
       "<thead>\n",
       "\t<tr><th></th><th scope=col>5%</th><th scope=col>95%</th></tr>\n",
       "</thead>\n",
       "<tbody>\n",
       "\t<tr><th scope=row>OLS</th><td> 0.086671300</td><td>0.1337024</td></tr>\n",
       "\t<tr><th scope=row>Fuller</th><td>-0.008722431</td><td>0.1146086</td></tr>\n",
       "\t<tr><th scope=row>TSLS</th><td>-0.010078334</td><td>0.1141515</td></tr>\n",
       "\t<tr><th scope=row>LIML</th><td>-0.010078334</td><td>0.1141515</td></tr>\n",
       "\t<tr><th scope=row>AR</th><td>-0.013889445</td><td>0.1127801</td></tr>\n",
       "\t<tr><th scope=row>CLR</th><td>-0.013889780</td><td>0.1127804</td></tr>\n",
       "</tbody>\n",
       "</table>\n"
      ],
      "text/latex": [
       "A matrix: 6 × 2 of type dbl\n",
       "\\begin{tabular}{r|ll}\n",
       "  & 5\\% & 95\\%\\\\\n",
       "\\hline\n",
       "\tOLS &  0.086671300 & 0.1337024\\\\\n",
       "\tFuller & -0.008722431 & 0.1146086\\\\\n",
       "\tTSLS & -0.010078334 & 0.1141515\\\\\n",
       "\tLIML & -0.010078334 & 0.1141515\\\\\n",
       "\tAR & -0.013889445 & 0.1127801\\\\\n",
       "\tCLR & -0.013889780 & 0.1127804\\\\\n",
       "\\end{tabular}\n"
      ],
      "text/markdown": [
       "\n",
       "A matrix: 6 × 2 of type dbl\n",
       "\n",
       "| <!--/--> | 5% | 95% |\n",
       "|---|---|---|\n",
       "| OLS |  0.086671300 | 0.1337024 |\n",
       "| Fuller | -0.008722431 | 0.1146086 |\n",
       "| TSLS | -0.010078334 | 0.1141515 |\n",
       "| LIML | -0.010078334 | 0.1141515 |\n",
       "| AR | -0.013889445 | 0.1127801 |\n",
       "| CLR | -0.013889780 | 0.1127804 |\n",
       "\n"
      ],
      "text/plain": [
       "       5%           95%      \n",
       "OLS     0.086671300 0.1337024\n",
       "Fuller -0.008722431 0.1146086\n",
       "TSLS   -0.010078334 0.1141515\n",
       "LIML   -0.010078334 0.1141515\n",
       "AR     -0.013889445 0.1127801\n",
       "CLR    -0.013889780 0.1127804"
      ]
     },
     "metadata": {},
     "output_type": "display_data"
    }
   ],
   "source": [
    "confint(ivmodel1,level=0.90)"
   ]
  },
  {
   "cell_type": "markdown",
   "id": "651e5057-5d76-46f2-b6ff-a24e880be093",
   "metadata": {},
   "source": [
    "#### With two instruments"
   ]
  },
  {
   "cell_type": "code",
   "execution_count": 20,
   "id": "5a92d670-8ef0-4c34-bc6d-6b63fd7f6893",
   "metadata": {},
   "outputs": [
    {
     "data": {
      "text/plain": [
       "\n",
       "Call:\n",
       "ivmodel(Y = log(mroz1$wage), D = mroz1$educ, Z = mroz1$motheduc + \n",
       "    mroz1$fatheduc, X = mroz1$exper + I(mroz1$exper^2), intercept = TRUE, \n",
       "    beta0 = 0, alpha = 0.05, k = c(0, 1), manyweakSE = FALSE, \n",
       "    heteroSE = FALSE, clusterID = NULL, deltarange = NULL, na.action = na.omit)\n",
       "sample size: 428\n",
       "_ _ _ _ _ _ _ _ _ _ _ _ _ _ _ _ _ _ _ _ _ _ _ _ _ _ _ _ _ _ \n",
       "\n",
       "First Stage Regression Result:\n",
       "\n",
       "F=111.3931, df1=1, df2=425, p-value is < 2.22e-16\n",
       "R-squared=0.2076707,   Adjusted R-squared=0.2058063\n",
       "Residual standard error: 2.037825 on 426 degrees of freedom\n",
       "_ _ _ _ _ _ _ _ _ _ _ _ _ _ _ _ _ _ _ _ _ _ _ _ _ _ _ _ _ _ \n",
       "\n",
       "Coefficients of k-Class Estimators:\n",
       "\n",
       "             k Estimate Std. Error t value Pr(>|t|)    \n",
       "OLS    0.00000  0.11019    0.01427   7.724 8.17e-14 ***\n",
       "Fuller 0.99765  0.06384    0.03155   2.023   0.0436 *  \n",
       "TSLS   1.00000  0.06331    0.03170   1.997   0.0464 *  \n",
       "LIML   1.00000  0.06331    0.03170   1.997   0.0464 *  \n",
       "---\n",
       "Signif. codes:  0 ‘***’ 0.001 ‘**’ 0.01 ‘*’ 0.05 ‘.’ 0.1 ‘ ’ 1\n",
       "_ _ _ _ _ _ _ _ _ _ _ _ _ _ _ _ _ _ _ _ _ _ _ _ _ _ _ _ _ _ \n",
       "\n",
       "Alternative tests for the treatment effect under H_0: beta=0.\n",
       "\n",
       "Anderson-Rubin test (under F distribution):\n",
       "F=3.617578, df1=1, df2=425, p-value is 0.057848\n",
       "95 percent confidence interval:\n",
       " [-0.00226420165775377, 0.124637120854792]\n",
       "\n",
       "Conditional Likelihood Ratio test (under Normal approximation):\n",
       "Test Stat=3.617578, p-value is 0.057848\n",
       "95 percent confidence interval:\n",
       " [-0.00226401166158286, 0.12463695469422]"
      ]
     },
     "metadata": {},
     "output_type": "display_data"
    }
   ],
   "source": [
    "ivmodel(log(mroz1$wage), mroz1$educ, mroz1$motheduc+mroz1$fatheduc, mroz1$exper+I(mroz1$exper^2), intercept = TRUE,\n",
    "        beta0 = 0, alpha = 0.05, k = c(0, 1),\n",
    "        manyweakSE = FALSE, heteroSE = FALSE, clusterID = NULL,\n",
    "        deltarange = NULL, na.action = na.omit)"
   ]
  },
  {
   "cell_type": "code",
   "execution_count": null,
   "id": "58fbf7be-5bca-4f71-8663-55ee21882fdc",
   "metadata": {},
   "outputs": [],
   "source": []
  }
 ],
 "metadata": {
  "kernelspec": {
   "display_name": "R",
   "language": "R",
   "name": "ir"
  },
  "language_info": {
   "codemirror_mode": "r",
   "file_extension": ".r",
   "mimetype": "text/x-r-source",
   "name": "R",
   "pygments_lexer": "r",
   "version": "4.3.1"
  }
 },
 "nbformat": 4,
 "nbformat_minor": 5
}
